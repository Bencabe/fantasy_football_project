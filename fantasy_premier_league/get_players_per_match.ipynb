{
 "cells": [
  {
   "cell_type": "code",
   "execution_count": 3,
   "metadata": {},
   "outputs": [],
   "source": [
    "import requests\n",
    "import json\n",
    "import pandas as pd\n",
    "import pymysql.cursors\n",
    "import json"
   ]
  },
  {
   "cell_type": "markdown",
   "metadata": {},
   "source": [
    "first I need a list of all of the teams to make my query"
   ]
  },
  {
   "cell_type": "code",
   "execution_count": 4,
   "metadata": {},
   "outputs": [
    {
     "name": "stdout",
     "output_type": "stream",
     "text": [
      "{'records': [{'team': 'Liverpool', 'played': 36, 'win': 30, 'draw': 3, 'loss': 3, 'goalsFor': 77, 'goalsAgainst': 29, 'points': 93}, {'team': 'Manchester City', 'played': 37, 'win': 25, 'draw': 3, 'loss': 9, 'goalsFor': 97, 'goalsAgainst': 35, 'points': 78}, {'team': 'Chelsea', 'played': 36, 'win': 19, 'draw': 6, 'loss': 11, 'goalsFor': 64, 'goalsAgainst': 49, 'points': 63}, {'team': 'Manchester United', 'played': 36, 'win': 17, 'draw': 11, 'loss': 8, 'goalsFor': 63, 'goalsAgainst': 35, 'points': 62}, {'team': 'Leicester', 'played': 37, 'win': 18, 'draw': 8, 'loss': 11, 'goalsFor': 67, 'goalsAgainst': 39, 'points': 62}, {'team': 'Wolverhampton Wanderers', 'played': 37, 'win': 15, 'draw': 14, 'loss': 8, 'goalsFor': 51, 'goalsAgainst': 38, 'points': 59}, {'team': 'Tottenham', 'played': 37, 'win': 16, 'draw': 10, 'loss': 11, 'goalsFor': 60, 'goalsAgainst': 46, 'points': 58}, {'team': 'Burnley', 'played': 37, 'win': 15, 'draw': 9, 'loss': 13, 'goalsFor': 42, 'goalsAgainst': 48, 'points': 54}, {'team': 'Sheffield United', 'played': 37, 'win': 14, 'draw': 12, 'loss': 11, 'goalsFor': 38, 'goalsAgainst': 36, 'points': 54}, {'team': 'Arsenal', 'played': 37, 'win': 13, 'draw': 14, 'loss': 10, 'goalsFor': 53, 'goalsAgainst': 46, 'points': 53}, {'team': 'Southampton', 'played': 37, 'win': 14, 'draw': 7, 'loss': 16, 'goalsFor': 48, 'goalsAgainst': 59, 'points': 49}, {'team': 'Everton', 'played': 37, 'win': 13, 'draw': 10, 'loss': 14, 'goalsFor': 43, 'goalsAgainst': 53, 'points': 49}, {'team': 'Newcastle United', 'played': 37, 'win': 11, 'draw': 11, 'loss': 15, 'goalsFor': 37, 'goalsAgainst': 55, 'points': 44}, {'team': 'Crystal Palace', 'played': 37, 'win': 11, 'draw': 9, 'loss': 17, 'goalsFor': 30, 'goalsAgainst': 49, 'points': 42}, {'team': 'Brighton', 'played': 37, 'win': 8, 'draw': 14, 'loss': 15, 'goalsFor': 37, 'goalsAgainst': 53, 'points': 38}, {'team': 'West Ham', 'played': 36, 'win': 10, 'draw': 7, 'loss': 19, 'goalsFor': 47, 'goalsAgainst': 60, 'points': 37}, {'team': 'Aston Villa', 'played': 37, 'win': 9, 'draw': 7, 'loss': 21, 'goalsFor': 40, 'goalsAgainst': 66, 'points': 34}, {'team': 'Watford', 'played': 37, 'win': 8, 'draw': 10, 'loss': 19, 'goalsFor': 34, 'goalsAgainst': 61, 'points': 34}, {'team': 'Bournemouth', 'played': 37, 'win': 8, 'draw': 7, 'loss': 22, 'goalsFor': 37, 'goalsAgainst': 64, 'points': 31}, {'team': 'Norwich', 'played': 37, 'win': 5, 'draw': 6, 'loss': 26, 'goalsFor': 26, 'goalsAgainst': 70, 'points': 21}]}\n"
     ]
    }
   ],
   "source": [
    "url = \"https://heisenbug-premier-league-live-scores-v1.p.rapidapi.com/api/premierleague/table\"\n",
    "\n",
    "headers = {\n",
    "    'x-rapidapi-host': \"heisenbug-premier-league-live-scores-v1.p.rapidapi.com\",\n",
    "    'x-rapidapi-key': \"58ba862574msh2d22f18a5692fefp1e9a03jsn31da5fc820dc\"\n",
    "    }\n",
    "\n",
    "league_table = json.loads(requests.request(\"GET\", url, headers=headers).text)\n",
    "\n",
    "print(league_table)"
   ]
  },
  {
   "cell_type": "code",
   "execution_count": 5,
   "metadata": {},
   "outputs": [],
   "source": [
    "teams = []\n",
    "\n",
    "for record in league_table['records']:\n",
    "    teams.append(record['team'])"
   ]
  },
  {
   "cell_type": "code",
   "execution_count": 6,
   "metadata": {},
   "outputs": [
    {
     "data": {
      "text/plain": [
       "['Liverpool',\n",
       " 'Manchester City',\n",
       " 'Chelsea',\n",
       " 'Manchester United',\n",
       " 'Leicester',\n",
       " 'Wolverhampton Wanderers',\n",
       " 'Tottenham',\n",
       " 'Burnley',\n",
       " 'Sheffield United',\n",
       " 'Arsenal',\n",
       " 'Southampton',\n",
       " 'Everton',\n",
       " 'Newcastle United',\n",
       " 'Crystal Palace',\n",
       " 'Brighton',\n",
       " 'West Ham',\n",
       " 'Aston Villa',\n",
       " 'Watford',\n",
       " 'Bournemouth',\n",
       " 'Norwich']"
      ]
     },
     "execution_count": 6,
     "metadata": {},
     "output_type": "execute_result"
    }
   ],
   "source": [
    "teams"
   ]
  },
  {
   "cell_type": "code",
   "execution_count": 7,
   "metadata": {},
   "outputs": [],
   "source": [
    "url = \"https://heisenbug-premier-league-live-scores-v1.p.rapidapi.com/api/premierleague/formations\"\n",
    "\n",
    "querystring = {\"team1\":\"Everton\",\"team2\":\"Manchester United\"}\n",
    "\n",
    "headers = {\n",
    "    'x-rapidapi-host': \"heisenbug-premier-league-live-scores-v1.p.rapidapi.com\",\n",
    "    'x-rapidapi-key': \"58ba862574msh2d22f18a5692fefp1e9a03jsn31da5fc820dc\"\n",
    "    }\n",
    "\n",
    "response = json.loads(requests.request(\"GET\", url, headers=headers, params=querystring).text)"
   ]
  },
  {
   "cell_type": "code",
   "execution_count": 8,
   "metadata": {},
   "outputs": [
    {
     "data": {
      "text/plain": [
       "{'team1': {'teamName': 'Everton',\n",
       "  'players': {'lineups': [{'playerNumber': '1',\n",
       "     'playerName': 'Jordan Pickford'},\n",
       "    {'playerNumber': '23', 'playerName': 'Séamus Coleman', 'isCaptain': True},\n",
       "    {'playerNumber': '3', 'playerName': 'Leighton Baines'},\n",
       "    {'playerNumber': '26', 'playerName': 'Tom Davies'},\n",
       "    {'playerNumber': '5', 'playerName': 'Michael Keane'},\n",
       "    {'playerNumber': '2', 'playerName': 'Mason Holgate'},\n",
       "    {'playerNumber': '11', 'playerName': 'Theo Walcott'},\n",
       "    {'playerNumber': '21', 'playerName': 'André Gomes'},\n",
       "    {'playerNumber': '7', 'playerName': 'Richarlison'},\n",
       "    {'playerNumber': '9', 'playerName': 'Dominic Calvert-Lewin'},\n",
       "    {'playerNumber': '10', 'playerName': 'Gylfi Sigurdsson'}],\n",
       "   'substitutes': [{'playerNumber': '8', 'playerName': 'Fabian Delph'},\n",
       "    {'playerNumber': '13', 'playerName': 'Yerry Mina'},\n",
       "    {'playerNumber': '17', 'playerName': 'Alex Iwobi'},\n",
       "    {'playerNumber': '19', 'playerName': 'Djibril Sidibé'},\n",
       "    {'playerNumber': '20', 'playerName': 'Bernard'},\n",
       "    {'playerNumber': '27', 'playerName': 'Moise Kean'},\n",
       "    {'playerNumber': '31', 'playerName': 'João Virgínia'}]},\n",
       "  'coach': 'Carlo Ancelotti'},\n",
       " 'team2': {'teamName': 'Manchester United',\n",
       "  'players': {'lineups': [{'playerNumber': '1', 'playerName': 'David de Gea'},\n",
       "    {'playerNumber': '29', 'playerName': 'Aaron Wan-Bissaka'},\n",
       "    {'playerNumber': '23', 'playerName': 'Luke Shaw'},\n",
       "    {'playerNumber': '31', 'playerName': 'Nemanja Matic'},\n",
       "    {'playerNumber': '2', 'playerName': 'Victor Lindelöf'},\n",
       "    {'playerNumber': '5', 'playerName': 'Harry Maguire', 'isCaptain': True},\n",
       "    {'playerNumber': '39', 'playerName': 'Scott McTominay'},\n",
       "    {'playerNumber': '18', 'playerName': 'Bruno Fernandes'},\n",
       "    {'playerNumber': '9', 'playerName': 'Anthony Martial'},\n",
       "    {'playerNumber': '26', 'playerName': 'Mason Greenwood'},\n",
       "    {'playerNumber': '17', 'playerName': 'Fred'}],\n",
       "   'substitutes': [{'playerNumber': '3', 'playerName': 'Eric Bailly'},\n",
       "    {'playerNumber': '8', 'playerName': 'Juan Mata'},\n",
       "    {'playerNumber': '14', 'playerName': 'Jesse Lingard'},\n",
       "    {'playerNumber': '15', 'playerName': 'Andreas Pereira'},\n",
       "    {'playerNumber': '22', 'playerName': 'Sergio Romero'},\n",
       "    {'playerNumber': '25', 'playerName': 'Odion Ighalo'},\n",
       "    {'playerNumber': '53', 'playerName': 'Brandon Williams'}]},\n",
       "  'coach': 'Ole Gunnar Solskjær'}}"
      ]
     },
     "execution_count": 8,
     "metadata": {},
     "output_type": "execute_result"
    }
   ],
   "source": [
    "response"
   ]
  },
  {
   "cell_type": "code",
   "execution_count": 9,
   "metadata": {},
   "outputs": [
    {
     "name": "stdout",
     "output_type": "stream",
     "text": [
      "Fabian Delph\n",
      "Yerry Mina\n",
      "Alex Iwobi\n",
      "Djibril Sidibé\n",
      "Bernard\n",
      "Moise Kean\n",
      "João Virgínia\n"
     ]
    }
   ],
   "source": [
    "for i in response['team1']['players']['substitutes']:\n",
    "    print(i['playerName'])"
   ]
  },
  {
   "cell_type": "code",
   "execution_count": 10,
   "metadata": {},
   "outputs": [],
   "source": [
    "players_match_df = pd.DataFrame({'player_name': [], 'player_team': [],'team_1':[],'team_1_score':[],'team_2': [],'team_2_score': [],'starting_11': []})"
   ]
  },
  {
   "cell_type": "code",
   "execution_count": 11,
   "metadata": {},
   "outputs": [
    {
     "ename": "NameError",
     "evalue": "name 'all_matches' is not defined",
     "output_type": "error",
     "traceback": [
      "\u001b[0;31m---------------------------------------------------------------------------\u001b[0m",
      "\u001b[0;31mNameError\u001b[0m                                 Traceback (most recent call last)",
      "\u001b[0;32m<ipython-input-11-0a39334dcfa8>\u001b[0m in \u001b[0;36m<module>\u001b[0;34m\u001b[0m\n\u001b[1;32m      6\u001b[0m     }\n\u001b[1;32m      7\u001b[0m \u001b[0;34m\u001b[0m\u001b[0m\n\u001b[0;32m----> 8\u001b[0;31m \u001b[0;32mfor\u001b[0m \u001b[0mi\u001b[0m \u001b[0;32min\u001b[0m \u001b[0mall_matches\u001b[0m\u001b[0;34m:\u001b[0m\u001b[0;34m\u001b[0m\u001b[0;34m\u001b[0m\u001b[0m\n\u001b[0m\u001b[1;32m      9\u001b[0m     \u001b[0mprint\u001b[0m\u001b[0;34m(\u001b[0m\u001b[0mi\u001b[0m\u001b[0;34m)\u001b[0m\u001b[0;34m\u001b[0m\u001b[0;34m\u001b[0m\u001b[0m\n\u001b[1;32m     10\u001b[0m     \u001b[0mteam_1\u001b[0m\u001b[0;34m=\u001b[0m \u001b[0mall_matches\u001b[0m\u001b[0;34m[\u001b[0m\u001b[0mi\u001b[0m\u001b[0;34m]\u001b[0m\u001b[0;34m[\u001b[0m\u001b[0;36m0\u001b[0m\u001b[0;34m]\u001b[0m\u001b[0;34m\u001b[0m\u001b[0;34m\u001b[0m\u001b[0m\n",
      "\u001b[0;31mNameError\u001b[0m: name 'all_matches' is not defined"
     ]
    }
   ],
   "source": [
    "url = \"https://heisenbug-premier-league-live-scores-v1.p.rapidapi.com/api/premierleague/formations\"\n",
    "\n",
    "headers = {\n",
    "    'x-rapidapi-host': \"heisenbug-premier-league-live-scores-v1.p.rapidapi.com\",\n",
    "    'x-rapidapi-key': \"58ba862574msh2d22f18a5692fefp1e9a03jsn31da5fc820dc\"\n",
    "    }\n",
    "\n",
    "for i in all_matches:\n",
    "    print(i)\n",
    "    team_1= all_matches[i][0]\n",
    "    team_1_score = all_matches[i][1]\n",
    "    team_2 = all_matches[i][2]\n",
    "    team_2_score = all_matches[i][3]\n",
    "    querystring = {\"team1\":team_1,\"team2\":team_2}\n",
    "    response = json.loads(requests.request(\"GET\", url, headers=headers, params=querystring).text)\n",
    "    for i in response['team1']['players']['lineups']:\n",
    "        players_match_df = players_match_df.append({'team_1':team_1,'team_2': team_2,'player_name': i['playerName'], 'player_team':team_1,'starting_11': True,'team_1_score':team_1_score,'team_2_score':team_2_score},ignore_index=True)\n",
    "    for i in response['team1']['players']['substitutes']:\n",
    "        players_match_df = players_match_df.append({'team_1':team_1,'team_2': team_2,'player_name': i['playerName'], 'player_team':team_1,'starting_11': False,'team_1_score':team_1_score,'team_2_score':team_2_score},ignore_index=True)\n",
    "    for i in response['team2']['players']['lineups']:\n",
    "        players_match_df = players_match_df.append({'team_1':team_1,'team_2': team_2,'player_name': i['playerName'], 'player_team':team_2,'starting_11': True,'team_1_score':team_1_score,'team_2_score':team_2_score},ignore_index=True)\n",
    "    for i in response['team1']['players']['substitutes']:\n",
    "        players_match_df = players_match_df.append({'team_1':team_1,'team_2': team_2,'player_name': i['playerName'], 'player_team':team_2,'starting_11': False,'team_1_score':team_1_score,'team_2_score':team_2_score},ignore_index=True)"
   ]
  },
  {
   "cell_type": "markdown",
   "metadata": {},
   "source": [
    "-------- \n",
    "\n",
    "random college work testing, can delete"
   ]
  },
  {
   "cell_type": "code",
   "execution_count": 12,
   "metadata": {},
   "outputs": [],
   "source": [
    "apikey='409a981102cfc744586072ad35c0fb0f'\n",
    "cityid='2964574'"
   ]
  },
  {
   "cell_type": "code",
   "execution_count": 13,
   "metadata": {},
   "outputs": [],
   "source": [
    "url = \"https://api.openweathermap.org/data/2.5/weather?id=\" + cityid + \"&APPID=\" + apikey"
   ]
  },
  {
   "cell_type": "code",
   "execution_count": 14,
   "metadata": {},
   "outputs": [],
   "source": [
    "response = requests.get(url)"
   ]
  },
  {
   "cell_type": "code",
   "execution_count": 19,
   "metadata": {},
   "outputs": [],
   "source": [
    "cur_weather = json.loads(response.text)"
   ]
  },
  {
   "cell_type": "code",
   "execution_count": 20,
   "metadata": {},
   "outputs": [
    {
     "data": {
      "text/plain": [
       "{'coord': {'lon': -6.27, 'lat': 53.34},\n",
       " 'weather': [{'id': 803,\n",
       "   'main': 'Clouds',\n",
       "   'description': 'broken clouds',\n",
       "   'icon': '04d'}],\n",
       " 'base': 'stations',\n",
       " 'main': {'temp': 289.68,\n",
       "  'feels_like': 285.41,\n",
       "  'temp_min': 289.15,\n",
       "  'temp_max': 290.15,\n",
       "  'pressure': 1019,\n",
       "  'humidity': 77},\n",
       " 'visibility': 10000,\n",
       " 'wind': {'speed': 7.2, 'deg': 240},\n",
       " 'clouds': {'all': 75},\n",
       " 'dt': 1595413247,\n",
       " 'sys': {'type': 1,\n",
       "  'id': 1565,\n",
       "  'country': 'IE',\n",
       "  'sunrise': 1595391968,\n",
       "  'sunset': 1595450196},\n",
       " 'timezone': 3600,\n",
       " 'id': 2964574,\n",
       " 'name': 'Dublin',\n",
       " 'cod': 200}"
      ]
     },
     "execution_count": 20,
     "metadata": {},
     "output_type": "execute_result"
    }
   ],
   "source": [
    "cur_weather"
   ]
  },
  {
   "cell_type": "markdown",
   "metadata": {},
   "source": [
    "dt, dt_iso, city_id, city_name, lat, lon, temp, temp_min, temp_max, pressure, humidity, wind_speed, wind_deg, clouds_all, weather_id, weather_main, weather_description, weather_icon"
   ]
  },
  {
   "cell_type": "code",
   "execution_count": 23,
   "metadata": {},
   "outputs": [
    {
     "data": {
      "text/plain": [
       "1595413247"
      ]
     },
     "execution_count": 23,
     "metadata": {},
     "output_type": "execute_result"
    }
   ],
   "source": [
    "cur_weather['dt']"
   ]
  },
  {
   "cell_type": "code",
   "execution_count": 24,
   "metadata": {},
   "outputs": [
    {
     "data": {
      "text/plain": [
       "289.68"
      ]
     },
     "execution_count": 24,
     "metadata": {},
     "output_type": "execute_result"
    }
   ],
   "source": [
    "cur_weather['main']['temp']"
   ]
  },
  {
   "cell_type": "code",
   "execution_count": 25,
   "metadata": {},
   "outputs": [
    {
     "data": {
      "text/plain": [
       "7.2"
      ]
     },
     "execution_count": 25,
     "metadata": {},
     "output_type": "execute_result"
    }
   ],
   "source": [
    "cur_weather['wind']['speed']"
   ]
  },
  {
   "cell_type": "code",
   "execution_count": 26,
   "metadata": {},
   "outputs": [
    {
     "data": {
      "text/plain": [
       "240"
      ]
     },
     "execution_count": 26,
     "metadata": {},
     "output_type": "execute_result"
    }
   ],
   "source": [
    "cur_weather['wind']['deg']"
   ]
  },
  {
   "cell_type": "code",
   "execution_count": 30,
   "metadata": {},
   "outputs": [
    {
     "data": {
      "text/plain": [
       "803"
      ]
     },
     "execution_count": 30,
     "metadata": {},
     "output_type": "execute_result"
    }
   ],
   "source": [
    "cur_weather['weather'][0]['id']"
   ]
  },
  {
   "cell_type": "code",
   "execution_count": 31,
   "metadata": {},
   "outputs": [
    {
     "data": {
      "text/plain": [
       "'Clouds'"
      ]
     },
     "execution_count": 31,
     "metadata": {},
     "output_type": "execute_result"
    }
   ],
   "source": [
    "cur_weather['weather'][0]['main']"
   ]
  },
  {
   "cell_type": "code",
   "execution_count": 32,
   "metadata": {},
   "outputs": [
    {
     "data": {
      "text/plain": [
       "'broken clouds'"
      ]
     },
     "execution_count": 32,
     "metadata": {},
     "output_type": "execute_result"
    }
   ],
   "source": [
    "cur_weather['weather'][0]['description']"
   ]
  },
  {
   "cell_type": "code",
   "execution_count": 33,
   "metadata": {},
   "outputs": [
    {
     "data": {
      "text/plain": [
       "'04d'"
      ]
     },
     "execution_count": 33,
     "metadata": {},
     "output_type": "execute_result"
    }
   ],
   "source": [
    "cur_weather['weather'][0]['icon']"
   ]
  },
  {
   "cell_type": "code",
   "execution_count": 34,
   "metadata": {},
   "outputs": [],
   "source": [
    "\n",
    "from datetime import datetime"
   ]
  },
  {
   "cell_type": "code",
   "execution_count": 35,
   "metadata": {},
   "outputs": [],
   "source": [
    "dt_object = datetime.fromtimestamp(cur_weather['dt'])"
   ]
  },
  {
   "cell_type": "code",
   "execution_count": 36,
   "metadata": {},
   "outputs": [
    {
     "data": {
      "text/plain": [
       "datetime.datetime(2020, 7, 22, 11, 20, 47)"
      ]
     },
     "execution_count": 36,
     "metadata": {},
     "output_type": "execute_result"
    }
   ],
   "source": [
    "dt_object"
   ]
  },
  {
   "cell_type": "code",
   "execution_count": 38,
   "metadata": {},
   "outputs": [
    {
     "name": "stdout",
     "output_type": "stream",
     "text": [
      "2020-07-22 11:20:47\n"
     ]
    }
   ],
   "source": [
    "t = print(dt_object)"
   ]
  },
  {
   "cell_type": "code",
   "execution_count": 39,
   "metadata": {},
   "outputs": [],
   "source": [
    "t"
   ]
  },
  {
   "cell_type": "code",
   "execution_count": 41,
   "metadata": {},
   "outputs": [
    {
     "data": {
      "text/plain": [
       "'2020-07-22 11:20:47'"
      ]
     },
     "execution_count": 41,
     "metadata": {},
     "output_type": "execute_result"
    }
   ],
   "source": [
    "str(dt_object)"
   ]
  },
  {
   "cell_type": "code",
   "execution_count": null,
   "metadata": {},
   "outputs": [],
   "source": []
  }
 ],
 "metadata": {
  "kernelspec": {
   "display_name": "Python 3.7.4 64-bit ('anaconda3': virtualenv)",
   "language": "python",
   "name": "python37464bitanaconda3virtualenvd133febcfbea48afa674bf6c16188df4"
  },
  "language_info": {
   "codemirror_mode": {
    "name": "ipython",
    "version": 3
   },
   "file_extension": ".py",
   "mimetype": "text/x-python",
   "name": "python",
   "nbconvert_exporter": "python",
   "pygments_lexer": "ipython3",
   "version": "3.7.7"
  }
 },
 "nbformat": 4,
 "nbformat_minor": 4
}
