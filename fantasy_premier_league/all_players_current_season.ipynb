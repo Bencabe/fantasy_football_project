{
 "cells": [
  {
   "cell_type": "code",
   "execution_count": 5,
   "metadata": {},
   "outputs": [],
   "source": [
    "import requests\n",
    "import json"
   ]
  },
  {
   "cell_type": "code",
   "execution_count": 6,
   "metadata": {},
   "outputs": [
    {
     "name": "stdout",
     "output_type": "stream",
     "text": [
      "{\"records\":[{\"team\":\"Leicester\",\"played\":2,\"win\":2,\"draw\":0,\"loss\":0,\"goalsFor\":7,\"goalsAgainst\":2,\"points\":6},{\"team\":\"Everton\",\"played\":2,\"win\":2,\"draw\":0,\"loss\":0,\"goalsFor\":6,\"goalsAgainst\":2,\"points\":6},{\"team\":\"Liverpool\",\"played\":2,\"win\":2,\"draw\":0,\"loss\":0,\"goalsFor\":6,\"goalsAgainst\":3,\"points\":6},{\"team\":\"Arsenal\",\"played\":2,\"win\":2,\"draw\":0,\"loss\":0,\"goalsFor\":5,\"goalsAgainst\":1,\"points\":6},{\"team\":\"Crystal Palace\",\"played\":2,\"win\":2,\"draw\":0,\"loss\":0,\"goalsFor\":4,\"goalsAgainst\":1,\"points\":6},{\"team\":\"Manchester City\",\"played\":1,\"win\":1,\"draw\":0,\"loss\":0,\"goalsFor\":3,\"goalsAgainst\":1,\"points\":3},{\"team\":\"Aston Villa\",\"played\":1,\"win\":1,\"draw\":0,\"loss\":0,\"goalsFor\":1,\"goalsAgainst\":0,\"points\":3},{\"team\":\"Leeds\",\"played\":2,\"win\":1,\"draw\":0,\"loss\":1,\"goalsFor\":7,\"goalsAgainst\":7,\"points\":3},{\"team\":\"Tottenham\",\"played\":2,\"win\":1,\"draw\":0,\"loss\":1,\"goalsFor\":5,\"goalsAgainst\":3,\"points\":3},{\"team\":\"Brighton\",\"played\":2,\"win\":1,\"draw\":0,\"loss\":1,\"goalsFor\":4,\"goalsAgainst\":3,\"points\":3},{\"team\":\"Chelsea\",\"played\":2,\"win\":1,\"draw\":0,\"loss\":1,\"goalsFor\":3,\"goalsAgainst\":3,\"points\":3},{\"team\":\"Wolverhampton Wanderers\",\"played\":2,\"win\":1,\"draw\":0,\"loss\":1,\"goalsFor\":3,\"goalsAgainst\":3,\"points\":3},{\"team\":\"Newcastle United\",\"played\":2,\"win\":1,\"draw\":0,\"loss\":1,\"goalsFor\":2,\"goalsAgainst\":3,\"points\":3},{\"team\":\"Burnley\",\"played\":1,\"win\":0,\"draw\":0,\"loss\":1,\"goalsFor\":2,\"goalsAgainst\":4,\"points\":0},{\"team\":\"Manchester United\",\"played\":1,\"win\":0,\"draw\":0,\"loss\":1,\"goalsFor\":1,\"goalsAgainst\":3,\"points\":0},{\"team\":\"Fulham\",\"played\":2,\"win\":0,\"draw\":0,\"loss\":2,\"goalsFor\":3,\"goalsAgainst\":7,\"points\":0},{\"team\":\"Southampton\",\"played\":2,\"win\":0,\"draw\":0,\"loss\":2,\"goalsFor\":2,\"goalsAgainst\":6,\"points\":0},{\"team\":\"West Bromwich Albion\",\"played\":2,\"win\":0,\"draw\":0,\"loss\":2,\"goalsFor\":2,\"goalsAgainst\":8,\"points\":0},{\"team\":\"West Ham\",\"played\":2,\"win\":0,\"draw\":0,\"loss\":2,\"goalsFor\":1,\"goalsAgainst\":4,\"points\":0},{\"team\":\"Sheffield United\",\"played\":2,\"win\":0,\"draw\":0,\"loss\":2,\"goalsFor\":0,\"goalsAgainst\":3,\"points\":0}]}\n",
      "\n"
     ]
    }
   ],
   "source": [
    "url = \"https://heisenbug-premier-league-live-scores-v1.p.rapidapi.com/api/premierleague/table\"\n",
    "\n",
    "headers = {\n",
    "    'x-rapidapi-host': \"heisenbug-premier-league-live-scores-v1.p.rapidapi.com\",\n",
    "    'x-rapidapi-key': \"58ba862574msh2d22f18a5692fefp1e9a03jsn31da5fc820dc\"\n",
    "    }\n",
    "\n",
    "response = requests.request(\"GET\", url, headers=headers)\n",
    "\n",
    "print(response.text)"
   ]
  },
  {
   "cell_type": "code",
   "execution_count": 11,
   "metadata": {},
   "outputs": [],
   "source": [
    "json_response = json.loads(response.text)"
   ]
  },
  {
   "cell_type": "code",
   "execution_count": 12,
   "metadata": {},
   "outputs": [],
   "source": [
    "teams = []\n",
    "\n",
    "for record in json_response['records']:\n",
    "    teams.append(record['team'])"
   ]
  },
  {
   "cell_type": "code",
   "execution_count": 13,
   "metadata": {},
   "outputs": [
    {
     "data": {
      "text/plain": [
       "['Leicester',\n",
       " 'Everton',\n",
       " 'Liverpool',\n",
       " 'Arsenal',\n",
       " 'Crystal Palace',\n",
       " 'Manchester City',\n",
       " 'Aston Villa',\n",
       " 'Leeds',\n",
       " 'Tottenham',\n",
       " 'Brighton',\n",
       " 'Chelsea',\n",
       " 'Wolverhampton Wanderers',\n",
       " 'Newcastle United',\n",
       " 'Burnley',\n",
       " 'Manchester United',\n",
       " 'Fulham',\n",
       " 'Southampton',\n",
       " 'West Bromwich Albion',\n",
       " 'West Ham',\n",
       " 'Sheffield United']"
      ]
     },
     "execution_count": 13,
     "metadata": {},
     "output_type": "execute_result"
    }
   ],
   "source": [
    "teams"
   ]
  },
  {
   "cell_type": "code",
   "execution_count": null,
   "metadata": {},
   "outputs": [],
   "source": [
    "players = []"
   ]
  },
  {
   "cell_type": "code",
   "execution_count": 17,
   "metadata": {},
   "outputs": [],
   "source": [
    "url = \"https://heisenbug-premier-league-live-scores-v1.p.rapidapi.com/api/premierleague/players\"\n",
    "\n",
    "querystring = {\"team\":\"Arsenal\"}\n",
    "\n",
    "headers = {\n",
    "    'x-rapidapi-host': \"heisenbug-premier-league-live-scores-v1.p.rapidapi.com\",\n",
    "    'x-rapidapi-key': \"58ba862574msh2d22f18a5692fefp1e9a03jsn31da5fc820dc\"\n",
    "    }"
   ]
  },
  {
   "cell_type": "code",
   "execution_count": 26,
   "metadata": {},
   "outputs": [
    {
     "name": "stdout",
     "output_type": "stream",
     "text": [
      "{\"error\":\"No data found, player and/or team requested aren't in the database\"}\n",
      "\n"
     ]
    }
   ],
   "source": [
    "response = requests.request(\"GET\", url, headers=headers, params=querystring)\n",
    "\n",
    "print(response.text)"
   ]
  },
  {
   "cell_type": "code",
   "execution_count": 28,
   "metadata": {},
   "outputs": [
    {
     "name": "stdout",
     "output_type": "stream",
     "text": [
      "{\"players\":[{\"playerName\":\"Pierre-Emerick Aubameyang\",\"age\":31,\"position\":\"Forward\",\"active\":\"true\"},{\"playerName\":\"Gabriel Magalhães\",\"age\":22,\"position\":\"Defender\",\"active\":\"true\"},{\"playerName\":\"Dani Ceballos\",\"age\":24,\"position\":\"Midfielder\",\"active\":\"true\"},{\"playerName\":\"Willian\",\"age\":32,\"position\":\"Forward\",\"active\":\"true\"},{\"playerName\":\"Alexandre Lacazette\",\"age\":29,\"position\":\"Forward\",\"active\":\"true\"},{\"playerName\":\"Mohamed Elneny\",\"age\":28,\"position\":\"Midfielder\",\"active\":\"true\"},{\"playerName\":\"Rob Holding\",\"age\":25,\"position\":\"Defender\",\"active\":\"true\"},{\"playerName\":\"Kieran Tierney\",\"age\":23,\"position\":\"Defender\",\"active\":\"true\"},{\"playerName\":\"Granit Xhaka\",\"age\":27,\"position\":\"Midfielder\",\"active\":\"true\"},{\"playerName\":\"Ainsley Maitland-Niles\",\"age\":23,\"position\":\"Midfielder\",\"active\":\"true\"},{\"playerName\":\"Bukayo Saka\",\"age\":19,\"position\":\"Midfielder\",\"active\":\"true\"},{\"playerName\":\"Héctor Bellerín\",\"age\":25,\"position\":\"Defender\",\"active\":\"true\"},{\"playerName\":\"Bernd Leno\",\"age\":28,\"position\":\"Goalkeeper\",\"active\":\"true\"},{\"playerName\":\"Eddie Nketiah\",\"age\":21,\"position\":\"Forward\",\"active\":\"true\"},{\"playerName\":\"Sead Kolasinac\",\"age\":27,\"position\":\"Defender\",\"active\":\"true\"},{\"playerName\":\"Nicolas Pépé\",\"age\":25,\"position\":\"Forward\",\"active\":\"true\"},{\"playerName\":\"David Luiz\",\"age\":33,\"position\":\"Defender\",\"active\":\"true\"},{\"playerName\":\"Matt Macey\",\"age\":26,\"position\":\"Goalkeeper\",\"active\":\"true\"}]}\n",
      "\n"
     ]
    }
   ],
   "source": [
    "import requests\n",
    "\n",
    "url = \"https://heisenbug-premier-league-live-scores-v1.p.rapidapi.com/api/premierleague/players\"\n",
    "\n",
    "querystring = {\"team\":'Arsenal'}\n",
    "\n",
    "headers = {\n",
    "    'x-rapidapi-host': \"heisenbug-premier-league-live-scores-v1.p.rapidapi.com\",\n",
    "    'x-rapidapi-key': \"58ba862574msh2d22f18a5692fefp1e9a03jsn31da5fc820dc\"\n",
    "    }\n",
    "\n",
    "response = requests.request(\"GET\", url, headers=headers, params=querystring)\n",
    "\n",
    "print(response.text)"
   ]
  },
  {
   "cell_type": "code",
   "execution_count": 27,
   "metadata": {},
   "outputs": [
    {
     "name": "stdout",
     "output_type": "stream",
     "text": [
      "Leicester :\n",
      " {\"players\":[{\"playerName\":\"Dennis Praet\",\"age\":26,\"position\":\"Midfielder\",\"active\":\"true\"},{\"playerName\":\"Harvey Barnes\",\"age\":22,\"position\":\"Midfielder\",\"active\":\"true\"},{\"playerName\":\"Timothy Castagne\",\"age\":24,\"position\":\"Defender\",\"active\":\"true\"},{\"playerName\":\"James Justin\",\"age\":22,\"position\":\"Defender\",\"active\":\"true\"},{\"playerName\":\"Jamie Vardy\",\"age\":33,\"position\":\"Forward\",\"active\":\"true\"},{\"playerName\":\"Wilfred Ndidi\",\"age\":23,\"position\":\"Midfielder\",\"active\":\"true\"},{\"playerName\":\"Youri Tielemans\",\"age\":23,\"position\":\"Midfielder\",\"active\":\"true\"},{\"playerName\":\"Çaglar Söyüncü\",\"age\":24,\"position\":\"Defender\",\"active\":\"true\"},{\"playerName\":\"Nampalys Mendy\",\"age\":28,\"position\":\"Midfielder\",\"active\":\"true\"},{\"playerName\":\"Kasper Schmeichel\",\"age\":33,\"position\":\"Goalkeeper\",\"active\":\"true\"},{\"playerName\":\"Ayoze Pérez\",\"age\":27,\"position\":\"Forward\",\"active\":\"true\"},{\"playerName\":\"James Maddison\",\"age\":23,\"position\":\"Midfielder\",\"active\":\"true\"},{\"playerName\":\"Marc Albrighton\",\"age\":30,\"position\":\"Midfielder\",\"active\":\"true\"},{\"playerName\":\"Wes Morgan\",\"age\":36,\"position\":\"Defender\",\"active\":\"true\"},{\"playerName\":\"Kelechi Iheanacho\",\"age\":23,\"position\":\"Forward - Centre-Forward\",\"active\":\"true\"},{\"playerName\":\"Danny Ward\",\"age\":27,\"position\":\"Goalkeeper\",\"active\":\"true\"},{\"playerName\":\"Christian Fuchs\",\"age\":34,\"position\":\"Defender - Left-Back\",\"active\":\"true\"},{\"playerName\":\"Hamza Choudhury\",\"age\":22,\"position\":\"Midfielder - Defensive Midfield\",\"active\":\"true\"}]}\n",
      "\n",
      "Everton :\n",
      " {\"players\":[{\"playerName\":\"Dominic Calvert-Lewin\",\"age\":23,\"position\":\"Forward\",\"active\":\"true\"},{\"playerName\":\"Richarlison\",\"age\":23,\"position\":\"Forward\",\"active\":\"true\"},{\"playerName\":\"James Rodríguez\",\"age\":29,\"position\":\"Midfielder\",\"active\":\"true\"},{\"playerName\":\"Lucas Digne\",\"age\":27,\"position\":\"Defender\",\"active\":\"true\"},{\"playerName\":\"Allan\",\"age\":29,\"position\":\"Midfielder\",\"active\":\"true\"},{\"playerName\":\"Michael Keane\",\"age\":27,\"position\":\"Defender\",\"active\":\"true\"},{\"playerName\":\"Séamus Coleman\",\"age\":31,\"position\":\"Defender\",\"active\":\"true\"},{\"playerName\":\"Abdoulaye Doucouré\",\"age\":27,\"position\":\"Midfielder\",\"active\":\"true\"},{\"playerName\":\"Yerry Mina\",\"age\":26,\"position\":\"Defender\",\"active\":\"true\"},{\"playerName\":\"Jordan Pickford\",\"age\":26,\"position\":\"Goalkeeper\",\"active\":\"true\"},{\"playerName\":\"André Gomes\",\"age\":27,\"position\":\"Midfielder\",\"active\":\"true\"},{\"playerName\":\"Gylfi Sigurdsson\",\"age\":31,\"position\":\"Midfielder\",\"active\":\"true\"},{\"playerName\":\"Tom Davies\",\"age\":22,\"position\":\"Midfielder\",\"active\":\"true\"},{\"playerName\":\"Moise Kean\",\"age\":20,\"position\":\"Forward\",\"active\":\"true\"},{\"playerName\":\"Alex Iwobi\",\"age\":24,\"position\":\"Forward\",\"active\":\"true\"},{\"playerName\":\"Jonjoe Kenny\",\"age\":23,\"position\":\"Defender - Right-Back\",\"active\":\"true\"},{\"playerName\":\"Bernard\",\"age\":28,\"position\":\"Forward - Left Winger\",\"active\":\"true\"},{\"playerName\":\"João Virgínia\",\"age\":20,\"position\":\"Goalkeeper\",\"active\":\"true\"}]}\n",
      "\n",
      "Liverpool :\n",
      " {\"players\":[{\"playerName\":\"Mohamed Salah\",\"age\":28,\"position\":\"Forward\",\"active\":\"true\"},{\"playerName\":\"Sadio Mané\",\"age\":28,\"position\":\"Forward\",\"active\":\"true\"},{\"playerName\":\"Roberto Firmino\",\"age\":28,\"position\":\"Forward\",\"active\":\"true\"},{\"playerName\":\"Fabinho\",\"age\":26,\"position\":\"Midfielder\",\"active\":\"true\"},{\"playerName\":\"Alisson\",\"age\":27,\"position\":\"Goalkeeper\",\"active\":\"true\"},{\"playerName\":\"Andrew Robertson\",\"age\":26,\"position\":\"Defender\",\"active\":\"true\"},{\"playerName\":\"Naby Keita\",\"age\":25,\"position\":\"Midfielder\",\"active\":\"true\"},{\"playerName\":\"Trent Alexander-Arnold\",\"age\":21,\"position\":\"Defender\",\"active\":\"true\"},{\"playerName\":\"Joe Gomez\",\"age\":23,\"position\":\"Defender\",\"active\":\"true\"},{\"playerName\":\"Georginio Wijnaldum\",\"age\":29,\"position\":\"Midfielder\",\"active\":\"true\"},{\"playerName\":\"Jordan Henderson\",\"age\":30,\"position\":\"Midfielder\",\"active\":\"true\"},{\"playerName\":\"Virgil van Dijk\",\"age\":29,\"position\":\"Defender\",\"active\":\"true\"},{\"playerName\":\"Thiago\",\"age\":29,\"position\":\"Midfielder\",\"active\":\"true\"},{\"playerName\":\"James Milner\",\"age\":34,\"position\":\"Midfielder\",\"active\":\"true\"},{\"playerName\":\"Takumi Minamino\",\"age\":25,\"position\":\"Forward\",\"active\":\"true\"},{\"playerName\":\"Joel Matip\",\"age\":29,\"position\":\"Defender\",\"active\":\"true\"},{\"playerName\":\"Curtis Jones\",\"age\":19,\"position\":\"Midfielder\",\"active\":\"true\"},{\"playerName\":\"Adrián\",\"age\":33,\"position\":\"Goalkeeper\",\"active\":\"true\"},{\"playerName\":\"Konstantinos Tsimikas\",\"age\":24,\"position\":\"Defender - Left-Back\",\"active\":\"true\"},{\"playerName\":\"Divock Origi\",\"age\":25,\"position\":\"Forward - Centre-Forward\",\"active\":\"true\"}]}\n",
      "\n",
      "Arsenal :\n",
      " {\"players\":[{\"playerName\":\"Pierre-Emerick Aubameyang\",\"age\":31,\"position\":\"Forward\",\"active\":\"true\"},{\"playerName\":\"Gabriel Magalhães\",\"age\":22,\"position\":\"Defender\",\"active\":\"true\"},{\"playerName\":\"Dani Ceballos\",\"age\":24,\"position\":\"Midfielder\",\"active\":\"true\"},{\"playerName\":\"Willian\",\"age\":32,\"position\":\"Forward\",\"active\":\"true\"},{\"playerName\":\"Alexandre Lacazette\",\"age\":29,\"position\":\"Forward\",\"active\":\"true\"},{\"playerName\":\"Mohamed Elneny\",\"age\":28,\"position\":\"Midfielder\",\"active\":\"true\"},{\"playerName\":\"Rob Holding\",\"age\":25,\"position\":\"Defender\",\"active\":\"true\"},{\"playerName\":\"Kieran Tierney\",\"age\":23,\"position\":\"Defender\",\"active\":\"true\"},{\"playerName\":\"Granit Xhaka\",\"age\":27,\"position\":\"Midfielder\",\"active\":\"true\"},{\"playerName\":\"Ainsley Maitland-Niles\",\"age\":23,\"position\":\"Midfielder\",\"active\":\"true\"},{\"playerName\":\"Bukayo Saka\",\"age\":19,\"position\":\"Midfielder\",\"active\":\"true\"},{\"playerName\":\"Héctor Bellerín\",\"age\":25,\"position\":\"Defender\",\"active\":\"true\"},{\"playerName\":\"Bernd Leno\",\"age\":28,\"position\":\"Goalkeeper\",\"active\":\"true\"},{\"playerName\":\"Eddie Nketiah\",\"age\":21,\"position\":\"Forward\",\"active\":\"true\"},{\"playerName\":\"Sead Kolasinac\",\"age\":27,\"position\":\"Defender\",\"active\":\"true\"},{\"playerName\":\"Nicolas Pépé\",\"age\":25,\"position\":\"Forward\",\"active\":\"true\"},{\"playerName\":\"David Luiz\",\"age\":33,\"position\":\"Defender\",\"active\":\"true\"},{\"playerName\":\"Matt Macey\",\"age\":26,\"position\":\"Goalkeeper\",\"active\":\"true\"}]}\n",
      "\n",
      "Crystal Palace :\n",
      " {\"players\":[{\"playerName\":\"Scott Dann\",\"age\":33,\"position\":\"Defender\",\"active\":\"true\"},{\"playerName\":\"Wilfried Zaha\",\"age\":27,\"position\":\"Forward\",\"active\":\"true\"},{\"playerName\":\"Jeffrey Schlupp\",\"age\":27,\"position\":\"Midfielder\",\"active\":\"true\"},{\"playerName\":\"Andros Townsend\",\"age\":29,\"position\":\"Midfielder\",\"active\":\"true\"},{\"playerName\":\"James McArthur\",\"age\":32,\"position\":\"Midfielder\",\"active\":\"true\"},{\"playerName\":\"Vicente Guaita\",\"age\":33,\"position\":\"Goalkeeper\",\"active\":\"true\"},{\"playerName\":\"Joel Ward\",\"age\":30,\"position\":\"Defender\",\"active\":\"true\"},{\"playerName\":\"Mamadou Sakho\",\"age\":30,\"position\":\"Defender\",\"active\":\"true\"},{\"playerName\":\"Tyrick Mitchell\",\"age\":21,\"position\":\"Defender\",\"active\":\"true\"},{\"playerName\":\"James McCarthy\",\"age\":29,\"position\":\"Midfielder\",\"active\":\"true\"},{\"playerName\":\"Cheikhou Kouyaté\",\"age\":30,\"position\":\"Midfielder\",\"active\":\"true\"},{\"playerName\":\"Jordan Ayew\",\"age\":29,\"position\":\"Forward\",\"active\":\"true\"},{\"playerName\":\"Luka Milivojevic\",\"age\":29,\"position\":\"Midfielder\",\"active\":\"true\"},{\"playerName\":\"Eberechi Eze\",\"age\":22,\"position\":\"Midfielder\",\"active\":\"true\"},{\"playerName\":\"Michy Batshuayi\",\"age\":26,\"position\":\"Forward\",\"active\":\"true\"},{\"playerName\":\"Max Meyer\",\"age\":25,\"position\":\"Midfielder - Attacking Midfield\",\"active\":\"true\"},{\"playerName\":\"Wayne Hennessey\",\"age\":33,\"position\":\"Goalkeeper\",\"active\":\"true\"},{\"playerName\":\"Ryan Inniss\",\"age\":25,\"position\":\"Defender - Centre-Back\",\"active\":\"true\"},{\"playerName\":\"Martin Kelly\",\"age\":30,\"position\":\"Defender - Right-Back\",\"active\":\"true\"}]}\n",
      "\n",
      "Manchester City :\n",
      " {\"error\":\"No data found, player and/or team requested aren't in the database\"}\n",
      "\n",
      "Aston Villa :\n",
      " {\"error\":\"No data found, player and/or team requested aren't in the database\"}\n",
      "\n",
      "Leeds :\n",
      " {\"players\":[{\"playerName\":\"Patrick Bamford\",\"age\":27,\"position\":\"Forward\",\"active\":\"true\"},{\"playerName\":\"Mateusz Klich\",\"age\":30,\"position\":\"Midfielder\",\"active\":\"true\"},{\"playerName\":\"Hélder Costa\",\"age\":26,\"position\":\"Forward\",\"active\":\"true\"},{\"playerName\":\"Kalvin Phillips\",\"age\":24,\"position\":\"Midfielder\",\"active\":\"true\"},{\"playerName\":\"Pascal Struijk\",\"age\":21,\"position\":\"Defender\",\"active\":\"true\"},{\"playerName\":\"Jack Harrison\",\"age\":23,\"position\":\"Midfielder\",\"active\":\"true\"},{\"playerName\":\"Stuart Dallas\",\"age\":29,\"position\":\"Midfielder\",\"active\":\"true\"},{\"playerName\":\"Luke Ayling\",\"age\":29,\"position\":\"Defender\",\"active\":\"true\"},{\"playerName\":\"Liam Cooper\",\"age\":29,\"position\":\"Defender\",\"active\":\"true\"},{\"playerName\":\"Tyler Roberts\",\"age\":21,\"position\":\"Forward\",\"active\":\"true\"},{\"playerName\":\"Robin Koch\",\"age\":24,\"position\":\"Defender\",\"active\":\"true\"},{\"playerName\":\"Ezgjan Alioski\",\"age\":28,\"position\":\"Midfielder\",\"active\":\"true\"},{\"playerName\":\"Illan Meslier\",\"age\":20,\"position\":\"Goalkeeper\",\"active\":\"true\"},{\"playerName\":\"Jamie Shackleton\",\"age\":20,\"position\":\"Midfielder\",\"active\":\"true\"},{\"playerName\":\"Pablo Hernández\",\"age\":35,\"position\":\"Midfielder\",\"active\":\"true\"},{\"playerName\":\"Rodrigo Moreno\",\"age\":29,\"position\":\"Forward\",\"active\":\"true\"},{\"playerName\":\"Mateusz Bogusz\",\"age\":19,\"position\":\"Midfielder - Central Midfield\",\"active\":\"true\"},{\"playerName\":\"Elia Caprile\",\"age\":19,\"position\":\"Goalkeeper\",\"active\":\"true\"}]}\n",
      "\n"
     ]
    },
    {
     "name": "stdout",
     "output_type": "stream",
     "text": [
      "Tottenham :\n",
      " {\"players\":[{\"playerName\":\"Son Heung-Min\",\"age\":28,\"position\":\"Forward\",\"active\":\"true\"},{\"playerName\":\"Harry Kane\",\"age\":27,\"position\":\"Forward\",\"active\":\"true\"},{\"playerName\":\"Pierre-Emile Højbjerg\",\"age\":25,\"position\":\"Midfielder\",\"active\":\"true\"},{\"playerName\":\"Davinson Sánchez\",\"age\":24,\"position\":\"Defender\",\"active\":\"true\"},{\"playerName\":\"Hugo Lloris\",\"age\":33,\"position\":\"Goalkeeper\",\"active\":\"true\"},{\"playerName\":\"Eric Dier\",\"age\":26,\"position\":\"Midfielder\",\"active\":\"true\"},{\"playerName\":\"Toby Alderweireld\",\"age\":31,\"position\":\"Defender\",\"active\":\"true\"},{\"playerName\":\"Matt Doherty\",\"age\":28,\"position\":\"Defender\",\"active\":\"true\"},{\"playerName\":\"Giovani Lo Celso\",\"age\":24,\"position\":\"Midfielder\",\"active\":\"true\"},{\"playerName\":\"Ben Davies\",\"age\":27,\"position\":\"Defender\",\"active\":\"true\"},{\"playerName\":\"Erik Lamela\",\"age\":28,\"position\":\"Midfielder\",\"active\":\"true\"},{\"playerName\":\"Harry Winks\",\"age\":24,\"position\":\"Midfielder\",\"active\":\"true\"},{\"playerName\":\"Dele Alli\",\"age\":24,\"position\":\"Midfielder\",\"active\":\"true\"},{\"playerName\":\"Moussa Sissoko\",\"age\":31,\"position\":\"Midfielder\",\"active\":\"true\"},{\"playerName\":\"Tanguy Ndombele\",\"age\":23,\"position\":\"Midfielder\",\"active\":\"true\"},{\"playerName\":\"Lucas Moura\",\"age\":28,\"position\":\"Forward\",\"active\":\"true\"},{\"playerName\":\"Steven Bergwijn\",\"age\":22,\"position\":\"Forward\",\"active\":\"true\"},{\"playerName\":\"Serge Aurier\",\"age\":27,\"position\":\"Defender - Right-Back\",\"active\":\"true\"},{\"playerName\":\"Joe Hart\",\"age\":33,\"position\":\"Goalkeeper\",\"active\":\"true\"}]}\n",
      "\n",
      "Brighton :\n",
      " {\"players\":[{\"playerName\":\"Leandro Trossard\",\"age\":25,\"position\":\"Forward\",\"active\":\"true\"},{\"playerName\":\"Tariq Lamptey\",\"age\":19,\"position\":\"Defender\",\"active\":\"true\"},{\"playerName\":\"Neal Maupay\",\"age\":24,\"position\":\"Forward\",\"active\":\"true\"},{\"playerName\":\"Aaron Connolly\",\"age\":20,\"position\":\"Forward\",\"active\":\"true\"},{\"playerName\":\"Solly March\",\"age\":26,\"position\":\"Midfielder\",\"active\":\"true\"},{\"playerName\":\"Lewis Dunk\",\"age\":28,\"position\":\"Defender\",\"active\":\"true\"},{\"playerName\":\"Steven Alzate\",\"age\":22,\"position\":\"Midfielder\",\"active\":\"true\"},{\"playerName\":\"Dan Burn\",\"age\":28,\"position\":\"Defender\",\"active\":\"true\"},{\"playerName\":\"Adam Webster\",\"age\":25,\"position\":\"Defender\",\"active\":\"true\"},{\"playerName\":\"Ben White\",\"age\":22,\"position\":\"Defender\",\"active\":\"true\"},{\"playerName\":\"Adam Lallana\",\"age\":32,\"position\":\"Midfielder\",\"active\":\"true\"},{\"playerName\":\"Pascal Groß\",\"age\":29,\"position\":\"Midfielder\",\"active\":\"true\"},{\"playerName\":\"Yves Bissouma\",\"age\":24,\"position\":\"Midfielder\",\"active\":\"true\"},{\"playerName\":\"Alireza Jahanbakhsh\",\"age\":27,\"position\":\"Forward\",\"active\":\"true\"},{\"playerName\":\"Mat Ryan\",\"age\":28,\"position\":\"Goalkeeper\",\"active\":\"true\"},{\"playerName\":\"Joël Veltman\",\"age\":28,\"position\":\"Defender - Centre-Back\",\"active\":\"true\"},{\"playerName\":\"Jason Steele\",\"age\":30,\"position\":\"Goalkeeper\",\"active\":\"true\"},{\"playerName\":\"Bernardo\",\"age\":25,\"position\":\"Defender - Left-Back\",\"active\":\"true\"}]}\n",
      "\n",
      "Chelsea :\n",
      " {\"players\":[{\"playerName\":\"Reece James\",\"age\":20,\"position\":\"Defender\",\"active\":\"true\"},{\"playerName\":\"Timo Werner\",\"age\":24,\"position\":\"Forward\",\"active\":\"true\"},{\"playerName\":\"N'Golo Kanté\",\"age\":29,\"position\":\"Midfielder\",\"active\":\"true\"},{\"playerName\":\"Kurt Zouma\",\"age\":25,\"position\":\"Defender\",\"active\":\"true\"},{\"playerName\":\"Mason Mount\",\"age\":21,\"position\":\"Midfielder\",\"active\":\"true\"},{\"playerName\":\"Fikayo Tomori\",\"age\":22,\"position\":\"Defender\",\"active\":\"true\"},{\"playerName\":\"Jorginho\",\"age\":28,\"position\":\"Midfielder\",\"active\":\"true\"},{\"playerName\":\"Andreas Christensen\",\"age\":24,\"position\":\"Defender\",\"active\":\"true\"},{\"playerName\":\"Kai Havertz\",\"age\":21,\"position\":\"Midfielder\",\"active\":\"true\"},{\"playerName\":\"Tammy Abraham\",\"age\":22,\"position\":\"Forward\",\"active\":\"true\"},{\"playerName\":\"Marcos Alonso\",\"age\":29,\"position\":\"Defender\",\"active\":\"true\"},{\"playerName\":\"Ross Barkley\",\"age\":26,\"position\":\"Midfielder\",\"active\":\"true\"},{\"playerName\":\"Ruben Loftus-Cheek\",\"age\":24,\"position\":\"Midfielder\",\"active\":\"true\"},{\"playerName\":\"Mateo Kovacic\",\"age\":26,\"position\":\"Midfielder\",\"active\":\"true\"},{\"playerName\":\"Callum Hudson-Odoi\",\"age\":19,\"position\":\"Forward\",\"active\":\"true\"},{\"playerName\":\"César Azpilicueta\",\"age\":31,\"position\":\"Defender\",\"active\":\"true\"},{\"playerName\":\"Kepa Arrizabalaga\",\"age\":25,\"position\":\"Goalkeeper\",\"active\":\"true\"},{\"playerName\":\"Olivier Giroud\",\"age\":33,\"position\":\"Forward - Centre-Forward\",\"active\":\"true\"},{\"playerName\":\"Willy Caballero\",\"age\":38,\"position\":\"Goalkeeper\",\"active\":\"true\"}]}\n",
      "\n",
      "Wolverhampton Wanderers :\n",
      " {\"error\":\"No data found, player and/or team requested aren't in the database\"}\n",
      "\n",
      "Newcastle United :\n",
      " {\"error\":\"No data found, player and/or team requested aren't in the database\"}\n",
      "\n",
      "Burnley :\n",
      " {\"players\":[{\"playerName\":\"Jimmy Dunne\",\"age\":22,\"position\":\"Defender\",\"active\":\"true\"},{\"playerName\":\"Chris Wood\",\"age\":28,\"position\":\"Forward\",\"active\":\"true\"},{\"playerName\":\"Dwight McNeil\",\"age\":20,\"position\":\"Midfielder\",\"active\":\"true\"},{\"playerName\":\"Charlie Taylor\",\"age\":27,\"position\":\"Defender\",\"active\":\"true\"},{\"playerName\":\"Robbie Brady\",\"age\":28,\"position\":\"Midfielder\",\"active\":\"true\"},{\"playerName\":\"Josh Brownhill\",\"age\":24,\"position\":\"Midfielder\",\"active\":\"true\"},{\"playerName\":\"Phil Bardsley\",\"age\":35,\"position\":\"Defender\",\"active\":\"true\"},{\"playerName\":\"Jay Rodriguez\",\"age\":31,\"position\":\"Forward\",\"active\":\"true\"},{\"playerName\":\"Matej Vydra\",\"age\":28,\"position\":\"Forward\",\"active\":\"true\"},{\"playerName\":\"Ashley Westwood\",\"age\":30,\"position\":\"Midfielder\",\"active\":\"true\"},{\"playerName\":\"Kevin Long\",\"age\":30,\"position\":\"Defender\",\"active\":\"true\"},{\"playerName\":\"Nick Pope\",\"age\":28,\"position\":\"Goalkeeper\",\"active\":\"true\"},{\"playerName\":\"Erik Pieters\",\"age\":32,\"position\":\"Defender\",\"active\":\"true\"},{\"playerName\":\"Matthew Lowton\",\"age\":31,\"position\":\"Defender - Right-Back\",\"active\":\"true\"},{\"playerName\":\"Bailey Peacock-Farrell\",\"age\":23,\"position\":\"Goalkeeper\",\"active\":\"true\"},{\"playerName\":\"Bobby Thomas\",\"age\":19,\"position\":\"Defender - Centre-Back\",\"active\":\"true\"}]}\n",
      "\n",
      "Manchester United :\n",
      " {\"error\":\"No data found, player and/or team requested aren't in the database\"}\n",
      "\n",
      "Fulham :\n",
      " {\"players\":[{\"playerName\":\"André-Frank Zambo Anguissa\",\"age\":24,\"position\":\"Midfielder\",\"active\":\"true\"},{\"playerName\":\"Kenny Tete\",\"age\":24,\"position\":\"Defender\",\"active\":\"true\"},{\"playerName\":\"Aleksandar Mitrovic\",\"age\":26,\"position\":\"Forward\",\"active\":\"true\"},{\"playerName\":\"Joe Bryan\",\"age\":27,\"position\":\"Defender\",\"active\":\"true\"},{\"playerName\":\"Bobby De Cordova-Reid\",\"age\":27,\"position\":\"Forward\",\"active\":\"true\"},{\"playerName\":\"Alphonse Areola\",\"age\":27,\"position\":\"Goalkeeper\",\"active\":\"true\"},{\"playerName\":\"Harrison Reed\",\"age\":25,\"position\":\"Midfielder\",\"active\":\"true\"},{\"playerName\":\"Neeskens Kebano\",\"age\":28,\"position\":\"Midfielder\",\"active\":\"true\"},{\"playerName\":\"Ivan Cavaleiro\",\"age\":26,\"position\":\"Forward\",\"active\":\"true\"},{\"playerName\":\"Michael Hector\",\"age\":28,\"position\":\"Defender\",\"active\":\"true\"},{\"playerName\":\"Mario Lemina\",\"age\":27,\"position\":\"Midfielder\",\"active\":\"true\"},{\"playerName\":\"Denis Odoi\",\"age\":32,\"position\":\"Defender\",\"active\":\"true\"},{\"playerName\":\"Tom Cairney\",\"age\":29,\"position\":\"Midfielder\",\"active\":\"true\"},{\"playerName\":\"Josh Onomah\",\"age\":23,\"position\":\"Midfielder\",\"active\":\"true\"},{\"playerName\":\"Aboubakar Kamara\",\"age\":25,\"position\":\"Forward\",\"active\":\"true\"},{\"playerName\":\"Marek Rodák\",\"age\":23,\"position\":\"Goalkeeper\",\"active\":\"true\"},{\"playerName\":\"Tim Ream\",\"age\":32,\"position\":\"Defender\",\"active\":\"true\"},{\"playerName\":\"Anthony Knockaert\",\"age\":28,\"position\":\"Forward - Right Winger\",\"active\":\"true\"}]}\n",
      "\n",
      "Southampton :\n",
      " {\"players\":[{\"playerName\":\"Jannik Vestergaard\",\"age\":28,\"position\":\"Defender\",\"active\":\"true\"},{\"playerName\":\"Kyle Walker-Peters\",\"age\":23,\"position\":\"Defender\",\"active\":\"true\"},{\"playerName\":\"Danny Ings\",\"age\":28,\"position\":\"Forward\",\"active\":\"true\"},{\"playerName\":\"Oriol Romeu\",\"age\":29,\"position\":\"Midfielder\",\"active\":\"true\"},{\"playerName\":\"Moussa Djenepo\",\"age\":22,\"position\":\"Midfielder\",\"active\":\"true\"},{\"playerName\":\"James Ward-Prowse\",\"age\":25,\"position\":\"Midfielder\",\"active\":\"true\"},{\"playerName\":\"Ryan Bertrand\",\"age\":31,\"position\":\"Defender\",\"active\":\"true\"},{\"playerName\":\"Che Adams\",\"age\":24,\"position\":\"Forward\",\"active\":\"true\"},{\"playerName\":\"Nathan Redmond\",\"age\":26,\"position\":\"Midfielder\",\"active\":\"true\"},{\"playerName\":\"Stuart Armstrong\",\"age\":28,\"position\":\"Midfielder\",\"active\":\"true\"},{\"playerName\":\"Nathan Tella\",\"age\":21,\"position\":\"Midfielder\",\"active\":\"true\"},{\"playerName\":\"Jack Stephens\",\"age\":26,\"position\":\"Defender\",\"active\":\"true\"},{\"playerName\":\"Shane Long\",\"age\":33,\"position\":\"Forward\",\"active\":\"true\"},{\"playerName\":\"William Smallbone\",\"age\":20,\"position\":\"Midfielder\",\"active\":\"true\"},{\"playerName\":\"Jan Bednarek\",\"age\":24,\"position\":\"Defender\",\"active\":\"true\"},{\"playerName\":\"Alex McCarthy\",\"age\":30,\"position\":\"Goalkeeper\",\"active\":\"true\"},{\"playerName\":\"Michael Obafemi\",\"age\":20,\"position\":\"Forward - Centre-Forward\",\"active\":\"true\"},{\"playerName\":\"Fraser Forster\",\"age\":32,\"position\":\"Goalkeeper\",\"active\":\"true\"},{\"playerName\":\"Jake Vokins\",\"age\":20,\"position\":\"Defender - Left-Back\",\"active\":\"true\"}]}\n",
      "\n"
     ]
    },
    {
     "name": "stdout",
     "output_type": "stream",
     "text": [
      "West Bromwich Albion :\n",
      " {\"error\":\"No data found, player and/or team requested aren't in the database\"}\n",
      "\n",
      "West Ham :\n",
      " {\"players\":[{\"playerName\":\"Arthur Masuaku\",\"age\":26,\"position\":\"Defender\",\"active\":\"true\"},{\"playerName\":\"Ryan Fredericks\",\"age\":27,\"position\":\"Defender\",\"active\":\"true\"},{\"playerName\":\"Michail Antonio\",\"age\":30,\"position\":\"Forward\",\"active\":\"true\"},{\"playerName\":\"Declan Rice\",\"age\":21,\"position\":\"Midfielder\",\"active\":\"true\"},{\"playerName\":\"Angelo Ogbonna\",\"age\":32,\"position\":\"Defender\",\"active\":\"true\"},{\"playerName\":\"Tomas Soucek\",\"age\":25,\"position\":\"Midfielder\",\"active\":\"true\"},{\"playerName\":\"Aaron Cresswell\",\"age\":30,\"position\":\"Defender\",\"active\":\"true\"},{\"playerName\":\"Issa Diop\",\"age\":23,\"position\":\"Defender\",\"active\":\"true\"},{\"playerName\":\"Pablo Fornals\",\"age\":24,\"position\":\"Midfielder\",\"active\":\"true\"},{\"playerName\":\"Felipe Anderson\",\"age\":27,\"position\":\"Midfielder\",\"active\":\"true\"},{\"playerName\":\"Jarrod Bowen\",\"age\":23,\"position\":\"Forward\",\"active\":\"true\"},{\"playerName\":\"Mark Noble\",\"age\":33,\"position\":\"Midfielder\",\"active\":\"true\"},{\"playerName\":\"Sébastien Haller\",\"age\":26,\"position\":\"Forward\",\"active\":\"true\"},{\"playerName\":\"Andriy Yarmolenko\",\"age\":30,\"position\":\"Forward - Right Winger\",\"active\":\"true\"},{\"playerName\":\"Lukasz Fabianski\",\"age\":35,\"position\":\"Goalkeeper\",\"active\":\"true\"},{\"playerName\":\"Darren Randolph\",\"age\":33,\"position\":\"Goalkeeper\",\"active\":\"true\"},{\"playerName\":\"Ben Johnson\",\"age\":20,\"position\":\"Defender - Right-Back\",\"active\":\"true\"},{\"playerName\":\"Fabián Balbuena\",\"age\":29,\"position\":\"Defender - Centre-Back\",\"active\":\"true\"},{\"playerName\":\"Manuel Lanzini\",\"age\":27,\"position\":\"Midfielder - Attacking Midfield\",\"active\":\"true\"}]}\n",
      "\n",
      "Sheffield United :\n",
      " {\"error\":\"No data found, player and/or team requested aren't in the database\"}\n",
      "\n"
     ]
    }
   ],
   "source": [
    "for team in teams:\n",
    "    querystring = {\"team\":team}\n",
    "    response = requests.request(\"GET\", url, headers=headers, params=querystring)\n",
    "    print(team,':\\n',response.text)\n",
    "    "
   ]
  },
  {
   "cell_type": "code",
   "execution_count": null,
   "metadata": {},
   "outputs": [],
   "source": []
  }
 ],
 "metadata": {
  "kernelspec": {
   "display_name": "Python 3.7.4 64-bit ('base': conda)",
   "language": "python",
   "name": "python37464bitbaseconda15c2790cc7054c03bc850346b4bdf543"
  },
  "language_info": {
   "codemirror_mode": {
    "name": "ipython",
    "version": 3
   },
   "file_extension": ".py",
   "mimetype": "text/x-python",
   "name": "python",
   "nbconvert_exporter": "python",
   "pygments_lexer": "ipython3",
   "version": "3.7.7"
  }
 },
 "nbformat": 4,
 "nbformat_minor": 4
}
