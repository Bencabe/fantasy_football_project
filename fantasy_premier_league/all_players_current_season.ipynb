{
 "cells": [
  {
   "cell_type": "code",
   "execution_count": 2,
   "metadata": {},
   "outputs": [],
   "source": [
    "import requests\n",
    "import json\n",
    "import os"
   ]
  },
  {
   "cell_type": "code",
   "execution_count": 3,
   "metadata": {},
   "outputs": [],
   "source": [
    "api_key = os.environ.get('RAPIDAPI')"
   ]
  },
  {
   "cell_type": "code",
   "execution_count": 6,
   "metadata": {},
   "outputs": [
    {
     "name": "stdout",
     "output_type": "stream",
     "text": [
      "{\"records\":[{\"team\":\"Leicester\",\"played\":2,\"win\":2,\"draw\":0,\"loss\":0,\"goalsFor\":7,\"goalsAgainst\":2,\"points\":6},{\"team\":\"Everton\",\"played\":2,\"win\":2,\"draw\":0,\"loss\":0,\"goalsFor\":6,\"goalsAgainst\":2,\"points\":6},{\"team\":\"Liverpool\",\"played\":2,\"win\":2,\"draw\":0,\"loss\":0,\"goalsFor\":6,\"goalsAgainst\":3,\"points\":6},{\"team\":\"Arsenal\",\"played\":2,\"win\":2,\"draw\":0,\"loss\":0,\"goalsFor\":5,\"goalsAgainst\":1,\"points\":6},{\"team\":\"Crystal Palace\",\"played\":2,\"win\":2,\"draw\":0,\"loss\":0,\"goalsFor\":4,\"goalsAgainst\":1,\"points\":6},{\"team\":\"Manchester City\",\"played\":1,\"win\":1,\"draw\":0,\"loss\":0,\"goalsFor\":3,\"goalsAgainst\":1,\"points\":3},{\"team\":\"Aston Villa\",\"played\":1,\"win\":1,\"draw\":0,\"loss\":0,\"goalsFor\":1,\"goalsAgainst\":0,\"points\":3},{\"team\":\"Leeds\",\"played\":2,\"win\":1,\"draw\":0,\"loss\":1,\"goalsFor\":7,\"goalsAgainst\":7,\"points\":3},{\"team\":\"Tottenham\",\"played\":2,\"win\":1,\"draw\":0,\"loss\":1,\"goalsFor\":5,\"goalsAgainst\":3,\"points\":3},{\"team\":\"Brighton\",\"played\":2,\"win\":1,\"draw\":0,\"loss\":1,\"goalsFor\":4,\"goalsAgainst\":3,\"points\":3},{\"team\":\"Chelsea\",\"played\":2,\"win\":1,\"draw\":0,\"loss\":1,\"goalsFor\":3,\"goalsAgainst\":3,\"points\":3},{\"team\":\"Wolverhampton Wanderers\",\"played\":2,\"win\":1,\"draw\":0,\"loss\":1,\"goalsFor\":3,\"goalsAgainst\":3,\"points\":3},{\"team\":\"Newcastle United\",\"played\":2,\"win\":1,\"draw\":0,\"loss\":1,\"goalsFor\":2,\"goalsAgainst\":3,\"points\":3},{\"team\":\"Burnley\",\"played\":1,\"win\":0,\"draw\":0,\"loss\":1,\"goalsFor\":2,\"goalsAgainst\":4,\"points\":0},{\"team\":\"Manchester United\",\"played\":1,\"win\":0,\"draw\":0,\"loss\":1,\"goalsFor\":1,\"goalsAgainst\":3,\"points\":0},{\"team\":\"Fulham\",\"played\":2,\"win\":0,\"draw\":0,\"loss\":2,\"goalsFor\":3,\"goalsAgainst\":7,\"points\":0},{\"team\":\"Southampton\",\"played\":2,\"win\":0,\"draw\":0,\"loss\":2,\"goalsFor\":2,\"goalsAgainst\":6,\"points\":0},{\"team\":\"West Bromwich Albion\",\"played\":2,\"win\":0,\"draw\":0,\"loss\":2,\"goalsFor\":2,\"goalsAgainst\":8,\"points\":0},{\"team\":\"West Ham\",\"played\":2,\"win\":0,\"draw\":0,\"loss\":2,\"goalsFor\":1,\"goalsAgainst\":4,\"points\":0},{\"team\":\"Sheffield United\",\"played\":2,\"win\":0,\"draw\":0,\"loss\":2,\"goalsFor\":0,\"goalsAgainst\":3,\"points\":0}]}\n",
      "\n"
     ]
    }
   ],
   "source": [
    "url = \"https://heisenbug-premier-league-live-scores-v1.p.rapidapi.com/api/premierleague/table\"\n",
    "\n",
    "headers = {\n",
    "    'x-rapidapi-host': \"heisenbug-premier-league-live-scores-v1.p.rapidapi.com\",\n",
    "    'x-rapidapi-key': api_key\n",
    "    }\n",
    "\n",
    "response = requests.request(\"GET\", url, headers=headers)\n",
    "\n",
    "print(response.text)"
   ]
  },
  {
   "cell_type": "code",
   "execution_count": 7,
   "metadata": {},
   "outputs": [],
   "source": [
    "json_response = json.loads(response.text)"
   ]
  },
  {
   "cell_type": "code",
   "execution_count": 8,
   "metadata": {},
   "outputs": [],
   "source": [
    "teams = []\n",
    "\n",
    "for record in json_response['records']:\n",
    "    teams.append(record['team'])"
   ]
  },
  {
   "cell_type": "code",
   "execution_count": 9,
   "metadata": {},
   "outputs": [
    {
     "data": {
      "text/plain": [
       "['Leicester',\n",
       " 'Everton',\n",
       " 'Liverpool',\n",
       " 'Arsenal',\n",
       " 'Crystal Palace',\n",
       " 'Manchester City',\n",
       " 'Aston Villa',\n",
       " 'Leeds',\n",
       " 'Tottenham',\n",
       " 'Brighton',\n",
       " 'Chelsea',\n",
       " 'Wolverhampton Wanderers',\n",
       " 'Newcastle United',\n",
       " 'Burnley',\n",
       " 'Manchester United',\n",
       " 'Fulham',\n",
       " 'Southampton',\n",
       " 'West Bromwich Albion',\n",
       " 'West Ham',\n",
       " 'Sheffield United']"
      ]
     },
     "execution_count": 9,
     "metadata": {},
     "output_type": "execute_result"
    }
   ],
   "source": [
    "teams"
   ]
  },
  {
   "cell_type": "code",
   "execution_count": 10,
   "metadata": {},
   "outputs": [],
   "source": [
    "players = []"
   ]
  },
  {
   "cell_type": "code",
   "execution_count": 11,
   "metadata": {},
   "outputs": [],
   "source": [
    "url = \"https://heisenbug-premier-league-live-scores-v1.p.rapidapi.com/api/premierleague/players\"\n",
    "\n",
    "querystring = {\"team\":\"Arsenal\"}\n",
    "\n",
    "headers = {\n",
    "    'x-rapidapi-host': \"heisenbug-premier-league-live-scores-v1.p.rapidapi.com\",\n",
    "    'x-rapidapi-key': api_key\n",
    "    }"
   ]
  },
  {
   "cell_type": "code",
   "execution_count": 12,
   "metadata": {},
   "outputs": [
    {
     "name": "stdout",
     "output_type": "stream",
     "text": [
      "{\"players\":[{\"playerName\":\"Pierre-Emerick Aubameyang\",\"age\":31,\"position\":\"Forward\",\"active\":\"true\"},{\"playerName\":\"Gabriel Magalhães\",\"age\":22,\"position\":\"Defender\",\"active\":\"true\"},{\"playerName\":\"Dani Ceballos\",\"age\":24,\"position\":\"Midfielder\",\"active\":\"true\"},{\"playerName\":\"Willian\",\"age\":32,\"position\":\"Forward\",\"active\":\"true\"},{\"playerName\":\"Alexandre Lacazette\",\"age\":29,\"position\":\"Forward\",\"active\":\"true\"},{\"playerName\":\"Mohamed Elneny\",\"age\":28,\"position\":\"Midfielder\",\"active\":\"true\"},{\"playerName\":\"Rob Holding\",\"age\":25,\"position\":\"Defender\",\"active\":\"true\"},{\"playerName\":\"Kieran Tierney\",\"age\":23,\"position\":\"Defender\",\"active\":\"true\"},{\"playerName\":\"Granit Xhaka\",\"age\":27,\"position\":\"Midfielder\",\"active\":\"true\"},{\"playerName\":\"Ainsley Maitland-Niles\",\"age\":23,\"position\":\"Midfielder\",\"active\":\"true\"},{\"playerName\":\"Bukayo Saka\",\"age\":19,\"position\":\"Midfielder\",\"active\":\"true\"},{\"playerName\":\"Héctor Bellerín\",\"age\":25,\"position\":\"Defender\",\"active\":\"true\"},{\"playerName\":\"Bernd Leno\",\"age\":28,\"position\":\"Goalkeeper\",\"active\":\"true\"},{\"playerName\":\"Eddie Nketiah\",\"age\":21,\"position\":\"Forward\",\"active\":\"true\"},{\"playerName\":\"Sead Kolasinac\",\"age\":27,\"position\":\"Defender\",\"active\":\"true\"},{\"playerName\":\"Nicolas Pépé\",\"age\":25,\"position\":\"Forward\",\"active\":\"true\"},{\"playerName\":\"David Luiz\",\"age\":33,\"position\":\"Defender\",\"active\":\"true\"},{\"playerName\":\"Matt Macey\",\"age\":26,\"position\":\"Goalkeeper\",\"active\":\"true\"}]}\n",
      "\n"
     ]
    }
   ],
   "source": [
    "response = requests.request(\"GET\", url, headers=headers, params=querystring)\n",
    "\n",
    "print(response.text)"
   ]
  },
  {
   "cell_type": "code",
   "execution_count": 28,
   "metadata": {},
   "outputs": [
    {
     "name": "stdout",
     "output_type": "stream",
     "text": [
      "{\"players\":[{\"playerName\":\"Pierre-Emerick Aubameyang\",\"age\":31,\"position\":\"Forward\",\"active\":\"true\"},{\"playerName\":\"Gabriel Magalhães\",\"age\":22,\"position\":\"Defender\",\"active\":\"true\"},{\"playerName\":\"Dani Ceballos\",\"age\":24,\"position\":\"Midfielder\",\"active\":\"true\"},{\"playerName\":\"Willian\",\"age\":32,\"position\":\"Forward\",\"active\":\"true\"},{\"playerName\":\"Alexandre Lacazette\",\"age\":29,\"position\":\"Forward\",\"active\":\"true\"},{\"playerName\":\"Mohamed Elneny\",\"age\":28,\"position\":\"Midfielder\",\"active\":\"true\"},{\"playerName\":\"Rob Holding\",\"age\":25,\"position\":\"Defender\",\"active\":\"true\"},{\"playerName\":\"Kieran Tierney\",\"age\":23,\"position\":\"Defender\",\"active\":\"true\"},{\"playerName\":\"Granit Xhaka\",\"age\":27,\"position\":\"Midfielder\",\"active\":\"true\"},{\"playerName\":\"Ainsley Maitland-Niles\",\"age\":23,\"position\":\"Midfielder\",\"active\":\"true\"},{\"playerName\":\"Bukayo Saka\",\"age\":19,\"position\":\"Midfielder\",\"active\":\"true\"},{\"playerName\":\"Héctor Bellerín\",\"age\":25,\"position\":\"Defender\",\"active\":\"true\"},{\"playerName\":\"Bernd Leno\",\"age\":28,\"position\":\"Goalkeeper\",\"active\":\"true\"},{\"playerName\":\"Eddie Nketiah\",\"age\":21,\"position\":\"Forward\",\"active\":\"true\"},{\"playerName\":\"Sead Kolasinac\",\"age\":27,\"position\":\"Defender\",\"active\":\"true\"},{\"playerName\":\"Nicolas Pépé\",\"age\":25,\"position\":\"Forward\",\"active\":\"true\"},{\"playerName\":\"David Luiz\",\"age\":33,\"position\":\"Defender\",\"active\":\"true\"},{\"playerName\":\"Matt Macey\",\"age\":26,\"position\":\"Goalkeeper\",\"active\":\"true\"}]}\n",
      "\n"
     ]
    }
   ],
   "source": [
    "import requests\n",
    "\n",
    "url = \"https://heisenbug-premier-league-live-scores-v1.p.rapidapi.com/api/premierleague/players\"\n",
    "\n",
    "querystring = {\"team\":'Arsenal'}\n",
    "\n",
    "headers = {\n",
    "    'x-rapidapi-host': \"heisenbug-premier-league-live-scores-v1.p.rapidapi.com\",\n",
    "    'x-rapidapi-key': \"58ba862574msh2d22f18a5692fefp1e9a03jsn31da5fc820dc\"\n",
    "    }\n",
    "\n",
    "response = requests.request(\"GET\", url, headers=headers, params=querystring)\n",
    "\n",
    "print(response.text)"
   ]
  },
  {
   "cell_type": "code",
   "execution_count": 27,
   "metadata": {},
   "outputs": [
    {
     "name": "stdout",
     "output_type": "stream",
     "text": [
      "Leicester :\n",
      " {\"players\":[{\"playerName\":\"Dennis Praet\",\"age\":26,\"position\":\"Midfielder\",\"active\":\"true\"},{\"playerName\":\"Harvey Barnes\",\"age\":22,\"position\":\"Midfielder\",\"active\":\"true\"},{\"playerName\":\"Timothy Castagne\",\"age\":24,\"position\":\"Defender\",\"active\":\"true\"},{\"playerName\":\"James Justin\",\"age\":22,\"position\":\"Defender\",\"active\":\"true\"},{\"playerName\":\"Jamie Vardy\",\"age\":33,\"position\":\"Forward\",\"active\":\"true\"},{\"playerName\":\"Wilfred Ndidi\",\"age\":23,\"position\":\"Midfielder\",\"active\":\"true\"},{\"playerName\":\"Youri Tielemans\",\"age\":23,\"position\":\"Midfielder\",\"active\":\"true\"},{\"playerName\":\"Çaglar Söyüncü\",\"age\":24,\"position\":\"Defender\",\"active\":\"true\"},{\"playerName\":\"Nampalys Mendy\",\"age\":28,\"position\":\"Midfielder\",\"active\":\"true\"},{\"playerName\":\"Kasper Schmeichel\",\"age\":33,\"position\":\"Goalkeeper\",\"active\":\"true\"},{\"playerName\":\"Ayoze Pérez\",\"age\":27,\"position\":\"Forward\",\"active\":\"true\"},{\"playerName\":\"James Maddison\",\"age\":23,\"position\":\"Midfielder\",\"active\":\"true\"},{\"playerName\":\"Marc Albrighton\",\"age\":30,\"position\":\"Midfielder\",\"active\":\"true\"},{\"playerName\":\"Wes Morgan\",\"age\":36,\"position\":\"Defender\",\"active\":\"true\"},{\"playerName\":\"Kelechi Iheanacho\",\"age\":23,\"position\":\"Forward - Centre-Forward\",\"active\":\"true\"},{\"playerName\":\"Danny Ward\",\"age\":27,\"position\":\"Goalkeeper\",\"active\":\"true\"},{\"playerName\":\"Christian Fuchs\",\"age\":34,\"position\":\"Defender - Left-Back\",\"active\":\"true\"},{\"playerName\":\"Hamza Choudhury\",\"age\":22,\"position\":\"Midfielder - Defensive Midfield\",\"active\":\"true\"}]}\n",
      "\n",
      "Everton :\n",
      " {\"players\":[{\"playerName\":\"Dominic Calvert-Lewin\",\"age\":23,\"position\":\"Forward\",\"active\":\"true\"},{\"playerName\":\"Richarlison\",\"age\":23,\"position\":\"Forward\",\"active\":\"true\"},{\"playerName\":\"James Rodríguez\",\"age\":29,\"position\":\"Midfielder\",\"active\":\"true\"},{\"playerName\":\"Lucas Digne\",\"age\":27,\"position\":\"Defender\",\"active\":\"true\"},{\"playerName\":\"Allan\",\"age\":29,\"position\":\"Midfielder\",\"active\":\"true\"},{\"playerName\":\"Michael Keane\",\"age\":27,\"position\":\"Defender\",\"active\":\"true\"},{\"playerName\":\"Séamus Coleman\",\"age\":31,\"position\":\"Defender\",\"active\":\"true\"},{\"playerName\":\"Abdoulaye Doucouré\",\"age\":27,\"position\":\"Midfielder\",\"active\":\"true\"},{\"playerName\":\"Yerry Mina\",\"age\":26,\"position\":\"Defender\",\"active\":\"true\"},{\"playerName\":\"Jordan Pickford\",\"age\":26,\"position\":\"Goalkeeper\",\"active\":\"true\"},{\"playerName\":\"André Gomes\",\"age\":27,\"position\":\"Midfielder\",\"active\":\"true\"},{\"playerName\":\"Gylfi Sigurdsson\",\"age\":31,\"position\":\"Midfielder\",\"active\":\"true\"},{\"playerName\":\"Tom Davies\",\"age\":22,\"position\":\"Midfielder\",\"active\":\"true\"},{\"playerName\":\"Moise Kean\",\"age\":20,\"position\":\"Forward\",\"active\":\"true\"},{\"playerName\":\"Alex Iwobi\",\"age\":24,\"position\":\"Forward\",\"active\":\"true\"},{\"playerName\":\"Jonjoe Kenny\",\"age\":23,\"position\":\"Defender - Right-Back\",\"active\":\"true\"},{\"playerName\":\"Bernard\",\"age\":28,\"position\":\"Forward - Left Winger\",\"active\":\"true\"},{\"playerName\":\"João Virgínia\",\"age\":20,\"position\":\"Goalkeeper\",\"active\":\"true\"}]}\n",
      "\n",
      "Liverpool :\n",
      " {\"players\":[{\"playerName\":\"Mohamed Salah\",\"age\":28,\"position\":\"Forward\",\"active\":\"true\"},{\"playerName\":\"Sadio Mané\",\"age\":28,\"position\":\"Forward\",\"active\":\"true\"},{\"playerName\":\"Roberto Firmino\",\"age\":28,\"position\":\"Forward\",\"active\":\"true\"},{\"playerName\":\"Fabinho\",\"age\":26,\"position\":\"Midfielder\",\"active\":\"true\"},{\"playerName\":\"Alisson\",\"age\":27,\"position\":\"Goalkeeper\",\"active\":\"true\"},{\"playerName\":\"Andrew Robertson\",\"age\":26,\"position\":\"Defender\",\"active\":\"true\"},{\"playerName\":\"Naby Keita\",\"age\":25,\"position\":\"Midfielder\",\"active\":\"true\"},{\"playerName\":\"Trent Alexander-Arnold\",\"age\":21,\"position\":\"Defender\",\"active\":\"true\"},{\"playerName\":\"Joe Gomez\",\"age\":23,\"position\":\"Defender\",\"active\":\"true\"},{\"playerName\":\"Georginio Wijnaldum\",\"age\":29,\"position\":\"Midfielder\",\"active\":\"true\"},{\"playerName\":\"Jordan Henderson\",\"age\":30,\"position\":\"Midfielder\",\"active\":\"true\"},{\"playerName\":\"Virgil van Dijk\",\"age\":29,\"position\":\"Defender\",\"active\":\"true\"},{\"playerName\":\"Thiago\",\"age\":29,\"position\":\"Midfielder\",\"active\":\"true\"},{\"playerName\":\"James Milner\",\"age\":34,\"position\":\"Midfielder\",\"active\":\"true\"},{\"playerName\":\"Takumi Minamino\",\"age\":25,\"position\":\"Forward\",\"active\":\"true\"},{\"playerName\":\"Joel Matip\",\"age\":29,\"position\":\"Defender\",\"active\":\"true\"},{\"playerName\":\"Curtis Jones\",\"age\":19,\"position\":\"Midfielder\",\"active\":\"true\"},{\"playerName\":\"Adrián\",\"age\":33,\"position\":\"Goalkeeper\",\"active\":\"true\"},{\"playerName\":\"Konstantinos Tsimikas\",\"age\":24,\"position\":\"Defender - Left-Back\",\"active\":\"true\"},{\"playerName\":\"Divock Origi\",\"age\":25,\"position\":\"Forward - Centre-Forward\",\"active\":\"true\"}]}\n",
      "\n",
      "Arsenal :\n",
      " {\"players\":[{\"playerName\":\"Pierre-Emerick Aubameyang\",\"age\":31,\"position\":\"Forward\",\"active\":\"true\"},{\"playerName\":\"Gabriel Magalhães\",\"age\":22,\"position\":\"Defender\",\"active\":\"true\"},{\"playerName\":\"Dani Ceballos\",\"age\":24,\"position\":\"Midfielder\",\"active\":\"true\"},{\"playerName\":\"Willian\",\"age\":32,\"position\":\"Forward\",\"active\":\"true\"},{\"playerName\":\"Alexandre Lacazette\",\"age\":29,\"position\":\"Forward\",\"active\":\"true\"},{\"playerName\":\"Mohamed Elneny\",\"age\":28,\"position\":\"Midfielder\",\"active\":\"true\"},{\"playerName\":\"Rob Holding\",\"age\":25,\"position\":\"Defender\",\"active\":\"true\"},{\"playerName\":\"Kieran Tierney\",\"age\":23,\"position\":\"Defender\",\"active\":\"true\"},{\"playerName\":\"Granit Xhaka\",\"age\":27,\"position\":\"Midfielder\",\"active\":\"true\"},{\"playerName\":\"Ainsley Maitland-Niles\",\"age\":23,\"position\":\"Midfielder\",\"active\":\"true\"},{\"playerName\":\"Bukayo Saka\",\"age\":19,\"position\":\"Midfielder\",\"active\":\"true\"},{\"playerName\":\"Héctor Bellerín\",\"age\":25,\"position\":\"Defender\",\"active\":\"true\"},{\"playerName\":\"Bernd Leno\",\"age\":28,\"position\":\"Goalkeeper\",\"active\":\"true\"},{\"playerName\":\"Eddie Nketiah\",\"age\":21,\"position\":\"Forward\",\"active\":\"true\"},{\"playerName\":\"Sead Kolasinac\",\"age\":27,\"position\":\"Defender\",\"active\":\"true\"},{\"playerName\":\"Nicolas Pépé\",\"age\":25,\"position\":\"Forward\",\"active\":\"true\"},{\"playerName\":\"David Luiz\",\"age\":33,\"position\":\"Defender\",\"active\":\"true\"},{\"playerName\":\"Matt Macey\",\"age\":26,\"position\":\"Goalkeeper\",\"active\":\"true\"}]}\n",
      "\n",
      "Crystal Palace :\n",
      " {\"players\":[{\"playerName\":\"Scott Dann\",\"age\":33,\"position\":\"Defender\",\"active\":\"true\"},{\"playerName\":\"Wilfried Zaha\",\"age\":27,\"position\":\"Forward\",\"active\":\"true\"},{\"playerName\":\"Jeffrey Schlupp\",\"age\":27,\"position\":\"Midfielder\",\"active\":\"true\"},{\"playerName\":\"Andros Townsend\",\"age\":29,\"position\":\"Midfielder\",\"active\":\"true\"},{\"playerName\":\"James McArthur\",\"age\":32,\"position\":\"Midfielder\",\"active\":\"true\"},{\"playerName\":\"Vicente Guaita\",\"age\":33,\"position\":\"Goalkeeper\",\"active\":\"true\"},{\"playerName\":\"Joel Ward\",\"age\":30,\"position\":\"Defender\",\"active\":\"true\"},{\"playerName\":\"Mamadou Sakho\",\"age\":30,\"position\":\"Defender\",\"active\":\"true\"},{\"playerName\":\"Tyrick Mitchell\",\"age\":21,\"position\":\"Defender\",\"active\":\"true\"},{\"playerName\":\"James McCarthy\",\"age\":29,\"position\":\"Midfielder\",\"active\":\"true\"},{\"playerName\":\"Cheikhou Kouyaté\",\"age\":30,\"position\":\"Midfielder\",\"active\":\"true\"},{\"playerName\":\"Jordan Ayew\",\"age\":29,\"position\":\"Forward\",\"active\":\"true\"},{\"playerName\":\"Luka Milivojevic\",\"age\":29,\"position\":\"Midfielder\",\"active\":\"true\"},{\"playerName\":\"Eberechi Eze\",\"age\":22,\"position\":\"Midfielder\",\"active\":\"true\"},{\"playerName\":\"Michy Batshuayi\",\"age\":26,\"position\":\"Forward\",\"active\":\"true\"},{\"playerName\":\"Max Meyer\",\"age\":25,\"position\":\"Midfielder - Attacking Midfield\",\"active\":\"true\"},{\"playerName\":\"Wayne Hennessey\",\"age\":33,\"position\":\"Goalkeeper\",\"active\":\"true\"},{\"playerName\":\"Ryan Inniss\",\"age\":25,\"position\":\"Defender - Centre-Back\",\"active\":\"true\"},{\"playerName\":\"Martin Kelly\",\"age\":30,\"position\":\"Defender - Right-Back\",\"active\":\"true\"}]}\n",
      "\n",
      "Manchester City :\n",
      " {\"error\":\"No data found, player and/or team requested aren't in the database\"}\n",
      "\n",
      "Aston Villa :\n",
      " {\"error\":\"No data found, player and/or team requested aren't in the database\"}\n",
      "\n",
      "Leeds :\n",
      " {\"players\":[{\"playerName\":\"Patrick Bamford\",\"age\":27,\"position\":\"Forward\",\"active\":\"true\"},{\"playerName\":\"Mateusz Klich\",\"age\":30,\"position\":\"Midfielder\",\"active\":\"true\"},{\"playerName\":\"Hélder Costa\",\"age\":26,\"position\":\"Forward\",\"active\":\"true\"},{\"playerName\":\"Kalvin Phillips\",\"age\":24,\"position\":\"Midfielder\",\"active\":\"true\"},{\"playerName\":\"Pascal Struijk\",\"age\":21,\"position\":\"Defender\",\"active\":\"true\"},{\"playerName\":\"Jack Harrison\",\"age\":23,\"position\":\"Midfielder\",\"active\":\"true\"},{\"playerName\":\"Stuart Dallas\",\"age\":29,\"position\":\"Midfielder\",\"active\":\"true\"},{\"playerName\":\"Luke Ayling\",\"age\":29,\"position\":\"Defender\",\"active\":\"true\"},{\"playerName\":\"Liam Cooper\",\"age\":29,\"position\":\"Defender\",\"active\":\"true\"},{\"playerName\":\"Tyler Roberts\",\"age\":21,\"position\":\"Forward\",\"active\":\"true\"},{\"playerName\":\"Robin Koch\",\"age\":24,\"position\":\"Defender\",\"active\":\"true\"},{\"playerName\":\"Ezgjan Alioski\",\"age\":28,\"position\":\"Midfielder\",\"active\":\"true\"},{\"playerName\":\"Illan Meslier\",\"age\":20,\"position\":\"Goalkeeper\",\"active\":\"true\"},{\"playerName\":\"Jamie Shackleton\",\"age\":20,\"position\":\"Midfielder\",\"active\":\"true\"},{\"playerName\":\"Pablo Hernández\",\"age\":35,\"position\":\"Midfielder\",\"active\":\"true\"},{\"playerName\":\"Rodrigo Moreno\",\"age\":29,\"position\":\"Forward\",\"active\":\"true\"},{\"playerName\":\"Mateusz Bogusz\",\"age\":19,\"position\":\"Midfielder - Central Midfield\",\"active\":\"true\"},{\"playerName\":\"Elia Caprile\",\"age\":19,\"position\":\"Goalkeeper\",\"active\":\"true\"}]}\n",
      "\n"
     ]
    },
    {
     "name": "stdout",
     "output_type": "stream",
     "text": [
      "Tottenham :\n",
      " {\"players\":[{\"playerName\":\"Son Heung-Min\",\"age\":28,\"position\":\"Forward\",\"active\":\"true\"},{\"playerName\":\"Harry Kane\",\"age\":27,\"position\":\"Forward\",\"active\":\"true\"},{\"playerName\":\"Pierre-Emile Højbjerg\",\"age\":25,\"position\":\"Midfielder\",\"active\":\"true\"},{\"playerName\":\"Davinson Sánchez\",\"age\":24,\"position\":\"Defender\",\"active\":\"true\"},{\"playerName\":\"Hugo Lloris\",\"age\":33,\"position\":\"Goalkeeper\",\"active\":\"true\"},{\"playerName\":\"Eric Dier\",\"age\":26,\"position\":\"Midfielder\",\"active\":\"true\"},{\"playerName\":\"Toby Alderweireld\",\"age\":31,\"position\":\"Defender\",\"active\":\"true\"},{\"playerName\":\"Matt Doherty\",\"age\":28,\"position\":\"Defender\",\"active\":\"true\"},{\"playerName\":\"Giovani Lo Celso\",\"age\":24,\"position\":\"Midfielder\",\"active\":\"true\"},{\"playerName\":\"Ben Davies\",\"age\":27,\"position\":\"Defender\",\"active\":\"true\"},{\"playerName\":\"Erik Lamela\",\"age\":28,\"position\":\"Midfielder\",\"active\":\"true\"},{\"playerName\":\"Harry Winks\",\"age\":24,\"position\":\"Midfielder\",\"active\":\"true\"},{\"playerName\":\"Dele Alli\",\"age\":24,\"position\":\"Midfielder\",\"active\":\"true\"},{\"playerName\":\"Moussa Sissoko\",\"age\":31,\"position\":\"Midfielder\",\"active\":\"true\"},{\"playerName\":\"Tanguy Ndombele\",\"age\":23,\"position\":\"Midfielder\",\"active\":\"true\"},{\"playerName\":\"Lucas Moura\",\"age\":28,\"position\":\"Forward\",\"active\":\"true\"},{\"playerName\":\"Steven Bergwijn\",\"age\":22,\"position\":\"Forward\",\"active\":\"true\"},{\"playerName\":\"Serge Aurier\",\"age\":27,\"position\":\"Defender - Right-Back\",\"active\":\"true\"},{\"playerName\":\"Joe Hart\",\"age\":33,\"position\":\"Goalkeeper\",\"active\":\"true\"}]}\n",
      "\n",
      "Brighton :\n",
      " {\"players\":[{\"playerName\":\"Leandro Trossard\",\"age\":25,\"position\":\"Forward\",\"active\":\"true\"},{\"playerName\":\"Tariq Lamptey\",\"age\":19,\"position\":\"Defender\",\"active\":\"true\"},{\"playerName\":\"Neal Maupay\",\"age\":24,\"position\":\"Forward\",\"active\":\"true\"},{\"playerName\":\"Aaron Connolly\",\"age\":20,\"position\":\"Forward\",\"active\":\"true\"},{\"playerName\":\"Solly March\",\"age\":26,\"position\":\"Midfielder\",\"active\":\"true\"},{\"playerName\":\"Lewis Dunk\",\"age\":28,\"position\":\"Defender\",\"active\":\"true\"},{\"playerName\":\"Steven Alzate\",\"age\":22,\"position\":\"Midfielder\",\"active\":\"true\"},{\"playerName\":\"Dan Burn\",\"age\":28,\"position\":\"Defender\",\"active\":\"true\"},{\"playerName\":\"Adam Webster\",\"age\":25,\"position\":\"Defender\",\"active\":\"true\"},{\"playerName\":\"Ben White\",\"age\":22,\"position\":\"Defender\",\"active\":\"true\"},{\"playerName\":\"Adam Lallana\",\"age\":32,\"position\":\"Midfielder\",\"active\":\"true\"},{\"playerName\":\"Pascal Groß\",\"age\":29,\"position\":\"Midfielder\",\"active\":\"true\"},{\"playerName\":\"Yves Bissouma\",\"age\":24,\"position\":\"Midfielder\",\"active\":\"true\"},{\"playerName\":\"Alireza Jahanbakhsh\",\"age\":27,\"position\":\"Forward\",\"active\":\"true\"},{\"playerName\":\"Mat Ryan\",\"age\":28,\"position\":\"Goalkeeper\",\"active\":\"true\"},{\"playerName\":\"Joël Veltman\",\"age\":28,\"position\":\"Defender - Centre-Back\",\"active\":\"true\"},{\"playerName\":\"Jason Steele\",\"age\":30,\"position\":\"Goalkeeper\",\"active\":\"true\"},{\"playerName\":\"Bernardo\",\"age\":25,\"position\":\"Defender - Left-Back\",\"active\":\"true\"}]}\n",
      "\n",
      "Chelsea :\n",
      " {\"players\":[{\"playerName\":\"Reece James\",\"age\":20,\"position\":\"Defender\",\"active\":\"true\"},{\"playerName\":\"Timo Werner\",\"age\":24,\"position\":\"Forward\",\"active\":\"true\"},{\"playerName\":\"N'Golo Kanté\",\"age\":29,\"position\":\"Midfielder\",\"active\":\"true\"},{\"playerName\":\"Kurt Zouma\",\"age\":25,\"position\":\"Defender\",\"active\":\"true\"},{\"playerName\":\"Mason Mount\",\"age\":21,\"position\":\"Midfielder\",\"active\":\"true\"},{\"playerName\":\"Fikayo Tomori\",\"age\":22,\"position\":\"Defender\",\"active\":\"true\"},{\"playerName\":\"Jorginho\",\"age\":28,\"position\":\"Midfielder\",\"active\":\"true\"},{\"playerName\":\"Andreas Christensen\",\"age\":24,\"position\":\"Defender\",\"active\":\"true\"},{\"playerName\":\"Kai Havertz\",\"age\":21,\"position\":\"Midfielder\",\"active\":\"true\"},{\"playerName\":\"Tammy Abraham\",\"age\":22,\"position\":\"Forward\",\"active\":\"true\"},{\"playerName\":\"Marcos Alonso\",\"age\":29,\"position\":\"Defender\",\"active\":\"true\"},{\"playerName\":\"Ross Barkley\",\"age\":26,\"position\":\"Midfielder\",\"active\":\"true\"},{\"playerName\":\"Ruben Loftus-Cheek\",\"age\":24,\"position\":\"Midfielder\",\"active\":\"true\"},{\"playerName\":\"Mateo Kovacic\",\"age\":26,\"position\":\"Midfielder\",\"active\":\"true\"},{\"playerName\":\"Callum Hudson-Odoi\",\"age\":19,\"position\":\"Forward\",\"active\":\"true\"},{\"playerName\":\"César Azpilicueta\",\"age\":31,\"position\":\"Defender\",\"active\":\"true\"},{\"playerName\":\"Kepa Arrizabalaga\",\"age\":25,\"position\":\"Goalkeeper\",\"active\":\"true\"},{\"playerName\":\"Olivier Giroud\",\"age\":33,\"position\":\"Forward - Centre-Forward\",\"active\":\"true\"},{\"playerName\":\"Willy Caballero\",\"age\":38,\"position\":\"Goalkeeper\",\"active\":\"true\"}]}\n",
      "\n",
      "Wolverhampton Wanderers :\n",
      " {\"error\":\"No data found, player and/or team requested aren't in the database\"}\n",
      "\n",
      "Newcastle United :\n",
      " {\"error\":\"No data found, player and/or team requested aren't in the database\"}\n",
      "\n",
      "Burnley :\n",
      " {\"players\":[{\"playerName\":\"Jimmy Dunne\",\"age\":22,\"position\":\"Defender\",\"active\":\"true\"},{\"playerName\":\"Chris Wood\",\"age\":28,\"position\":\"Forward\",\"active\":\"true\"},{\"playerName\":\"Dwight McNeil\",\"age\":20,\"position\":\"Midfielder\",\"active\":\"true\"},{\"playerName\":\"Charlie Taylor\",\"age\":27,\"position\":\"Defender\",\"active\":\"true\"},{\"playerName\":\"Robbie Brady\",\"age\":28,\"position\":\"Midfielder\",\"active\":\"true\"},{\"playerName\":\"Josh Brownhill\",\"age\":24,\"position\":\"Midfielder\",\"active\":\"true\"},{\"playerName\":\"Phil Bardsley\",\"age\":35,\"position\":\"Defender\",\"active\":\"true\"},{\"playerName\":\"Jay Rodriguez\",\"age\":31,\"position\":\"Forward\",\"active\":\"true\"},{\"playerName\":\"Matej Vydra\",\"age\":28,\"position\":\"Forward\",\"active\":\"true\"},{\"playerName\":\"Ashley Westwood\",\"age\":30,\"position\":\"Midfielder\",\"active\":\"true\"},{\"playerName\":\"Kevin Long\",\"age\":30,\"position\":\"Defender\",\"active\":\"true\"},{\"playerName\":\"Nick Pope\",\"age\":28,\"position\":\"Goalkeeper\",\"active\":\"true\"},{\"playerName\":\"Erik Pieters\",\"age\":32,\"position\":\"Defender\",\"active\":\"true\"},{\"playerName\":\"Matthew Lowton\",\"age\":31,\"position\":\"Defender - Right-Back\",\"active\":\"true\"},{\"playerName\":\"Bailey Peacock-Farrell\",\"age\":23,\"position\":\"Goalkeeper\",\"active\":\"true\"},{\"playerName\":\"Bobby Thomas\",\"age\":19,\"position\":\"Defender - Centre-Back\",\"active\":\"true\"}]}\n",
      "\n",
      "Manchester United :\n",
      " {\"error\":\"No data found, player and/or team requested aren't in the database\"}\n",
      "\n",
      "Fulham :\n",
      " {\"players\":[{\"playerName\":\"André-Frank Zambo Anguissa\",\"age\":24,\"position\":\"Midfielder\",\"active\":\"true\"},{\"playerName\":\"Kenny Tete\",\"age\":24,\"position\":\"Defender\",\"active\":\"true\"},{\"playerName\":\"Aleksandar Mitrovic\",\"age\":26,\"position\":\"Forward\",\"active\":\"true\"},{\"playerName\":\"Joe Bryan\",\"age\":27,\"position\":\"Defender\",\"active\":\"true\"},{\"playerName\":\"Bobby De Cordova-Reid\",\"age\":27,\"position\":\"Forward\",\"active\":\"true\"},{\"playerName\":\"Alphonse Areola\",\"age\":27,\"position\":\"Goalkeeper\",\"active\":\"true\"},{\"playerName\":\"Harrison Reed\",\"age\":25,\"position\":\"Midfielder\",\"active\":\"true\"},{\"playerName\":\"Neeskens Kebano\",\"age\":28,\"position\":\"Midfielder\",\"active\":\"true\"},{\"playerName\":\"Ivan Cavaleiro\",\"age\":26,\"position\":\"Forward\",\"active\":\"true\"},{\"playerName\":\"Michael Hector\",\"age\":28,\"position\":\"Defender\",\"active\":\"true\"},{\"playerName\":\"Mario Lemina\",\"age\":27,\"position\":\"Midfielder\",\"active\":\"true\"},{\"playerName\":\"Denis Odoi\",\"age\":32,\"position\":\"Defender\",\"active\":\"true\"},{\"playerName\":\"Tom Cairney\",\"age\":29,\"position\":\"Midfielder\",\"active\":\"true\"},{\"playerName\":\"Josh Onomah\",\"age\":23,\"position\":\"Midfielder\",\"active\":\"true\"},{\"playerName\":\"Aboubakar Kamara\",\"age\":25,\"position\":\"Forward\",\"active\":\"true\"},{\"playerName\":\"Marek Rodák\",\"age\":23,\"position\":\"Goalkeeper\",\"active\":\"true\"},{\"playerName\":\"Tim Ream\",\"age\":32,\"position\":\"Defender\",\"active\":\"true\"},{\"playerName\":\"Anthony Knockaert\",\"age\":28,\"position\":\"Forward - Right Winger\",\"active\":\"true\"}]}\n",
      "\n",
      "Southampton :\n",
      " {\"players\":[{\"playerName\":\"Jannik Vestergaard\",\"age\":28,\"position\":\"Defender\",\"active\":\"true\"},{\"playerName\":\"Kyle Walker-Peters\",\"age\":23,\"position\":\"Defender\",\"active\":\"true\"},{\"playerName\":\"Danny Ings\",\"age\":28,\"position\":\"Forward\",\"active\":\"true\"},{\"playerName\":\"Oriol Romeu\",\"age\":29,\"position\":\"Midfielder\",\"active\":\"true\"},{\"playerName\":\"Moussa Djenepo\",\"age\":22,\"position\":\"Midfielder\",\"active\":\"true\"},{\"playerName\":\"James Ward-Prowse\",\"age\":25,\"position\":\"Midfielder\",\"active\":\"true\"},{\"playerName\":\"Ryan Bertrand\",\"age\":31,\"position\":\"Defender\",\"active\":\"true\"},{\"playerName\":\"Che Adams\",\"age\":24,\"position\":\"Forward\",\"active\":\"true\"},{\"playerName\":\"Nathan Redmond\",\"age\":26,\"position\":\"Midfielder\",\"active\":\"true\"},{\"playerName\":\"Stuart Armstrong\",\"age\":28,\"position\":\"Midfielder\",\"active\":\"true\"},{\"playerName\":\"Nathan Tella\",\"age\":21,\"position\":\"Midfielder\",\"active\":\"true\"},{\"playerName\":\"Jack Stephens\",\"age\":26,\"position\":\"Defender\",\"active\":\"true\"},{\"playerName\":\"Shane Long\",\"age\":33,\"position\":\"Forward\",\"active\":\"true\"},{\"playerName\":\"William Smallbone\",\"age\":20,\"position\":\"Midfielder\",\"active\":\"true\"},{\"playerName\":\"Jan Bednarek\",\"age\":24,\"position\":\"Defender\",\"active\":\"true\"},{\"playerName\":\"Alex McCarthy\",\"age\":30,\"position\":\"Goalkeeper\",\"active\":\"true\"},{\"playerName\":\"Michael Obafemi\",\"age\":20,\"position\":\"Forward - Centre-Forward\",\"active\":\"true\"},{\"playerName\":\"Fraser Forster\",\"age\":32,\"position\":\"Goalkeeper\",\"active\":\"true\"},{\"playerName\":\"Jake Vokins\",\"age\":20,\"position\":\"Defender - Left-Back\",\"active\":\"true\"}]}\n",
      "\n"
     ]
    },
    {
     "name": "stdout",
     "output_type": "stream",
     "text": [
      "West Bromwich Albion :\n",
      " {\"error\":\"No data found, player and/or team requested aren't in the database\"}\n",
      "\n",
      "West Ham :\n",
      " {\"players\":[{\"playerName\":\"Arthur Masuaku\",\"age\":26,\"position\":\"Defender\",\"active\":\"true\"},{\"playerName\":\"Ryan Fredericks\",\"age\":27,\"position\":\"Defender\",\"active\":\"true\"},{\"playerName\":\"Michail Antonio\",\"age\":30,\"position\":\"Forward\",\"active\":\"true\"},{\"playerName\":\"Declan Rice\",\"age\":21,\"position\":\"Midfielder\",\"active\":\"true\"},{\"playerName\":\"Angelo Ogbonna\",\"age\":32,\"position\":\"Defender\",\"active\":\"true\"},{\"playerName\":\"Tomas Soucek\",\"age\":25,\"position\":\"Midfielder\",\"active\":\"true\"},{\"playerName\":\"Aaron Cresswell\",\"age\":30,\"position\":\"Defender\",\"active\":\"true\"},{\"playerName\":\"Issa Diop\",\"age\":23,\"position\":\"Defender\",\"active\":\"true\"},{\"playerName\":\"Pablo Fornals\",\"age\":24,\"position\":\"Midfielder\",\"active\":\"true\"},{\"playerName\":\"Felipe Anderson\",\"age\":27,\"position\":\"Midfielder\",\"active\":\"true\"},{\"playerName\":\"Jarrod Bowen\",\"age\":23,\"position\":\"Forward\",\"active\":\"true\"},{\"playerName\":\"Mark Noble\",\"age\":33,\"position\":\"Midfielder\",\"active\":\"true\"},{\"playerName\":\"Sébastien Haller\",\"age\":26,\"position\":\"Forward\",\"active\":\"true\"},{\"playerName\":\"Andriy Yarmolenko\",\"age\":30,\"position\":\"Forward - Right Winger\",\"active\":\"true\"},{\"playerName\":\"Lukasz Fabianski\",\"age\":35,\"position\":\"Goalkeeper\",\"active\":\"true\"},{\"playerName\":\"Darren Randolph\",\"age\":33,\"position\":\"Goalkeeper\",\"active\":\"true\"},{\"playerName\":\"Ben Johnson\",\"age\":20,\"position\":\"Defender - Right-Back\",\"active\":\"true\"},{\"playerName\":\"Fabián Balbuena\",\"age\":29,\"position\":\"Defender - Centre-Back\",\"active\":\"true\"},{\"playerName\":\"Manuel Lanzini\",\"age\":27,\"position\":\"Midfielder - Attacking Midfield\",\"active\":\"true\"}]}\n",
      "\n",
      "Sheffield United :\n",
      " {\"error\":\"No data found, player and/or team requested aren't in the database\"}\n",
      "\n"
     ]
    }
   ],
   "source": [
    "for team in teams:\n",
    "    querystring = {\"team\":team}\n",
    "    response = requests.request(\"GET\", url, headers=headers, params=querystring)\n",
    "    print(team,':\\n',response.text)\n",
    "    "
   ]
  },
  {
   "cell_type": "code",
   "execution_count": 17,
   "metadata": {},
   "outputs": [
    {
     "ename": "NameError",
     "evalue": "name '__file__' is not defined",
     "output_type": "error",
     "traceback": [
      "\u001b[0;31m---------------------------------------------------------------------------\u001b[0m",
      "\u001b[0;31mNameError\u001b[0m                                 Traceback (most recent call last)",
      "\u001b[0;32m<ipython-input-17-1c7a3e9c008c>\u001b[0m in \u001b[0;36m<module>\u001b[0;34m\u001b[0m\n\u001b[1;32m      7\u001b[0m \u001b[0;32mimport\u001b[0m \u001b[0msys\u001b[0m\u001b[0;34m\u001b[0m\u001b[0;34m\u001b[0m\u001b[0m\n\u001b[1;32m      8\u001b[0m \u001b[0;34m\u001b[0m\u001b[0m\n\u001b[0;32m----> 9\u001b[0;31m \u001b[0mBASE_DIR\u001b[0m \u001b[0;34m=\u001b[0m \u001b[0mos\u001b[0m\u001b[0;34m.\u001b[0m\u001b[0mpath\u001b[0m\u001b[0;34m.\u001b[0m\u001b[0mdirname\u001b[0m\u001b[0;34m(\u001b[0m\u001b[0mos\u001b[0m\u001b[0;34m.\u001b[0m\u001b[0mpath\u001b[0m\u001b[0;34m.\u001b[0m\u001b[0mdirname\u001b[0m\u001b[0;34m(\u001b[0m\u001b[0mos\u001b[0m\u001b[0;34m.\u001b[0m\u001b[0mpath\u001b[0m\u001b[0;34m.\u001b[0m\u001b[0mabspath\u001b[0m\u001b[0;34m(\u001b[0m\u001b[0m__file__\u001b[0m\u001b[0;34m)\u001b[0m\u001b[0;34m)\u001b[0m\u001b[0;34m)\u001b[0m\u001b[0;34m\u001b[0m\u001b[0;34m\u001b[0m\u001b[0m\n\u001b[0m\u001b[1;32m     10\u001b[0m \u001b[0msys\u001b[0m\u001b[0;34m.\u001b[0m\u001b[0mpath\u001b[0m\u001b[0;34m.\u001b[0m\u001b[0mappend\u001b[0m\u001b[0;34m(\u001b[0m\u001b[0mBASE_DIR\u001b[0m\u001b[0;34m)\u001b[0m\u001b[0;34m\u001b[0m\u001b[0;34m\u001b[0m\u001b[0m\n\u001b[1;32m     11\u001b[0m \u001b[0mos\u001b[0m\u001b[0;34m.\u001b[0m\u001b[0menviron\u001b[0m\u001b[0;34m[\u001b[0m\u001b[0;34m'DJANGO_SETTINGS_MODULE'\u001b[0m\u001b[0;34m]\u001b[0m \u001b[0;34m=\u001b[0m \u001b[0;34m'fantasy_football_project.settings'\u001b[0m\u001b[0;34m\u001b[0m\u001b[0;34m\u001b[0m\u001b[0m\n",
      "\u001b[0;31mNameError\u001b[0m: name '__file__' is not defined"
     ]
    }
   ],
   "source": [
    "#!/usr/bin/env python3\n",
    "# -*- coding:utf-8 -*-\n",
    "\n",
    "import requests\n",
    "import os\n",
    "import django\n",
    "import sys\n",
    "\n",
    "BASE_DIR = os.path.dirname(os.path.dirname(os.path.abspath(__file__)))\n",
    "sys.path.append(BASE_DIR)\n",
    "os.environ['DJANGO_SETTINGS_MODULE'] = 'fantasy_football_project.settings'\n",
    "os.environ.setdefault(\"DJANGO_SETTINGS_MODULE\", \"fantasy_football_project.settings\")\n",
    "django.setup()\n",
    "\n",
    "from epl_players.models import Player\n",
    "\n",
    "Players.objects.all().delete()\n",
    "\n",
    "# # create an instance of current weather class\n",
    "# w = Currentweather()\n",
    "\n",
    "# # add variables to the instance from openweathermap data\n",
    "# w.dt = cur_weather['dt']\n",
    "# w.temp = round(cur_weather['main']['temp'] - 273.15, 2)\n",
    "# w.temp_min = round(cur_weather['main']['temp_min']-273.15, 2)\n",
    "# w.temp_max = round(cur_weather['main']['temp_max']-273.15, 2)\n",
    "# w.pressure = cur_weather['main']['pressure']\n",
    "# w.humidity = cur_weather['main']['humidity']\n",
    "# w.wind_speed = cur_weather['wind']['speed']\n",
    "# w.wind_deg = cur_weather['wind']['deg']\n",
    "# w.clouds_all = cur_weather['clouds']['all']\n",
    "# w.weather_id = cur_weather['weather'][0]['id']\n",
    "# w.weather_main = cur_weather['weather'][0]['main']\n",
    "# w.weather_description = cur_weather['weather'][0]['description']\n",
    "# w.weather_icon = cur_weather['weather'][0]['icon']\n",
    "\n",
    "# # save new record\n",
    "# w.save()"
   ]
  },
  {
   "cell_type": "markdown",
   "metadata": {},
   "source": [
    "Awesome. now I've changed API so I need to write a new script to update players in database with players from new api so all the player id's are correct.\n",
    "\n",
    "First I'm going to need all teams in the current season\n",
    "\n"
   ]
  },
  {
   "cell_type": "code",
   "execution_count": 5,
   "metadata": {},
   "outputs": [
    {
     "name": "stdout",
     "output_type": "stream",
     "text": [
      "{\"api\":{\"results\":20,\"teams\":[{\"team_id\":44,\"name\":\"Burnley\",\"code\":null,\"logo\":\"https:\\/\\/media.api-sports.io\\/football\\/teams\\/44.png\",\"country\":\"England\",\"is_national\":false,\"founded\":1882,\"venue_name\":\"Turf Moor\",\"venue_surface\":\"grass\",\"venue_address\":\"Harry Potts Way\",\"venue_city\":\"Burnley\",\"venue_capacity\":22546},{\"team_id\":33,\"name\":\"Manchester United\",\"code\":\"MUN\",\"logo\":\"https:\\/\\/media.api-sports.io\\/football\\/teams\\/33.png\",\"country\":\"England\",\"is_national\":false,\"founded\":1878,\"venue_name\":\"Old Trafford\",\"venue_surface\":\"grass\",\"venue_address\":\"Sir Matt Busby Way\",\"venue_city\":\"Manchester\",\"venue_capacity\":76212},{\"team_id\":52,\"name\":\"Crystal Palace\",\"code\":null,\"logo\":\"https:\\/\\/media.api-sports.io\\/football\\/teams\\/52.png\",\"country\":\"England\",\"is_national\":false,\"founded\":1905,\"venue_name\":\"Selhurst Park\",\"venue_surface\":\"grass\",\"venue_address\":\"Holmesdale Road\",\"venue_city\":\"London\",\"venue_capacity\":26309},{\"team_id\":41,\"name\":\"Southampton\",\"code\":null,\"logo\":\"https:\\/\\/media.api-sports.io\\/football\\/teams\\/41.png\",\"country\":\"England\",\"is_national\":false,\"founded\":1885,\"venue_name\":\"St. Mary's Stadium\",\"venue_surface\":\"grass\",\"venue_address\":\"Britannia Road\",\"venue_city\":\"Southampton, Hampshire\",\"venue_capacity\":32689},{\"team_id\":36,\"name\":\"Fulham\",\"code\":null,\"logo\":\"https:\\/\\/media.api-sports.io\\/football\\/teams\\/36.png\",\"country\":\"England\",\"is_national\":false,\"founded\":1879,\"venue_name\":\"Craven Cottage\",\"venue_surface\":\"grass\",\"venue_address\":\"Stevenage Road\",\"venue_city\":\"London\",\"venue_capacity\":25700},{\"team_id\":42,\"name\":\"Arsenal\",\"code\":null,\"logo\":\"https:\\/\\/media.api-sports.io\\/football\\/teams\\/42.png\",\"country\":\"England\",\"is_national\":false,\"founded\":1886,\"venue_name\":\"Emirates Stadium\",\"venue_surface\":\"grass\",\"venue_address\":\"Queensland Road\",\"venue_city\":\"London\",\"venue_capacity\":60383},{\"team_id\":40,\"name\":\"Liverpool\",\"code\":null,\"logo\":\"https:\\/\\/media.api-sports.io\\/football\\/teams\\/40.png\",\"country\":\"England\",\"is_national\":false,\"founded\":1892,\"venue_name\":\"Anfield\",\"venue_surface\":\"grass\",\"venue_address\":\"Anfield Road\",\"venue_city\":\"Liverpool\",\"venue_capacity\":55212},{\"team_id\":63,\"name\":\"Leeds\",\"code\":null,\"logo\":\"https:\\/\\/media.api-sports.io\\/football\\/teams\\/63.png\",\"country\":\"England\",\"is_national\":false,\"founded\":1919,\"venue_name\":\"Elland Road\",\"venue_surface\":\"grass\",\"venue_address\":\"Elland Road\",\"venue_city\":\"Leeds, West Yorkshire\",\"venue_capacity\":40204},{\"team_id\":50,\"name\":\"Manchester City\",\"code\":null,\"logo\":\"https:\\/\\/media.api-sports.io\\/football\\/teams\\/50.png\",\"country\":\"England\",\"is_national\":false,\"founded\":1880,\"venue_name\":\"Etihad Stadium\",\"venue_surface\":\"grass\",\"venue_address\":\"Rowsley Street\",\"venue_city\":\"Manchester\",\"venue_capacity\":55097},{\"team_id\":66,\"name\":\"Aston Villa\",\"code\":null,\"logo\":\"https:\\/\\/media.api-sports.io\\/football\\/teams\\/66.png\",\"country\":\"England\",\"is_national\":false,\"founded\":1874,\"venue_name\":\"Villa Park\",\"venue_surface\":\"grass\",\"venue_address\":\"Trinity Road\",\"venue_city\":\"Birmingham\",\"venue_capacity\":42788},{\"team_id\":47,\"name\":\"Tottenham\",\"code\":null,\"logo\":\"https:\\/\\/media.api-sports.io\\/football\\/teams\\/47.png\",\"country\":\"England\",\"is_national\":false,\"founded\":1882,\"venue_name\":\"Tottenham Hotspur Stadium\",\"venue_surface\":\"grass\",\"venue_address\":\"Bill Nicholson Way, 748 High Road\",\"venue_city\":\"London\",\"venue_capacity\":62062},{\"team_id\":45,\"name\":\"Everton\",\"code\":null,\"logo\":\"https:\\/\\/media.api-sports.io\\/football\\/teams\\/45.png\",\"country\":\"England\",\"is_national\":false,\"founded\":1878,\"venue_name\":\"Goodison Park\",\"venue_surface\":\"grass\",\"venue_address\":\"Goodison Road\",\"venue_city\":\"Liverpool\",\"venue_capacity\":40569},{\"team_id\":60,\"name\":\"West Brom\",\"code\":null,\"logo\":\"https:\\/\\/media.api-sports.io\\/football\\/teams\\/60.png\",\"country\":\"England\",\"is_national\":false,\"founded\":1878,\"venue_name\":\"The Hawthorns\",\"venue_surface\":\"grass\",\"venue_address\":\"Halfords Lane\",\"venue_city\":\"West Bromwich\",\"venue_capacity\":28003},{\"team_id\":46,\"name\":\"Leicester\",\"code\":null,\"logo\":\"https:\\/\\/media.api-sports.io\\/football\\/teams\\/46.png\",\"country\":\"England\",\"is_national\":false,\"founded\":1884,\"venue_name\":\"King Power Stadium\",\"venue_surface\":\"grass\",\"venue_address\":\"Filbert Way\",\"venue_city\":\"Leicester, Leicestershire\",\"venue_capacity\":32262},{\"team_id\":48,\"name\":\"West Ham\",\"code\":null,\"logo\":\"https:\\/\\/media.api-sports.io\\/football\\/teams\\/48.png\",\"country\":\"England\",\"is_national\":false,\"founded\":1895,\"venue_name\":\"London Stadium\",\"venue_surface\":\"grass\",\"venue_address\":\"Marshgate Lane, Stratford\",\"venue_city\":\"London\",\"venue_capacity\":60000},{\"team_id\":34,\"name\":\"Newcastle\",\"code\":null,\"logo\":\"https:\\/\\/media.api-sports.io\\/football\\/teams\\/34.png\",\"country\":\"England\",\"is_national\":false,\"founded\":1892,\"venue_name\":\"St. James' Park\",\"venue_surface\":\"grass\",\"venue_address\":\"St. James&apos; Street\",\"venue_city\":\"Newcastle upon Tyne\",\"venue_capacity\":52389},{\"team_id\":51,\"name\":\"Brighton\",\"code\":null,\"logo\":\"https:\\/\\/media.api-sports.io\\/football\\/teams\\/51.png\",\"country\":\"England\",\"is_national\":false,\"founded\":1901,\"venue_name\":\"The American Express Community Stadium\",\"venue_surface\":\"grass\",\"venue_address\":\"Village Way\",\"venue_city\":\"Falmer, East Sussex\",\"venue_capacity\":30750},{\"team_id\":49,\"name\":\"Chelsea\",\"code\":null,\"logo\":\"https:\\/\\/media.api-sports.io\\/football\\/teams\\/49.png\",\"country\":\"England\",\"is_national\":false,\"founded\":1905,\"venue_name\":\"Stamford Bridge\",\"venue_surface\":\"grass\",\"venue_address\":\"Fulham Road\",\"venue_city\":\"London\",\"venue_capacity\":41841},{\"team_id\":62,\"name\":\"Sheffield Utd\",\"code\":null,\"logo\":\"https:\\/\\/media.api-sports.io\\/football\\/teams\\/62.png\",\"country\":\"England\",\"is_national\":false,\"founded\":1889,\"venue_name\":\"Bramall Lane\",\"venue_surface\":\"grass\",\"venue_address\":\"Bramall Lane\",\"venue_city\":\"Sheffield\",\"venue_capacity\":32702},{\"team_id\":39,\"name\":\"Wolves\",\"code\":null,\"logo\":\"https:\\/\\/media.api-sports.io\\/football\\/teams\\/39.png\",\"country\":\"England\",\"is_national\":false,\"founded\":1877,\"venue_name\":\"Molineux Stadium\",\"venue_surface\":\"grass\",\"venue_address\":\"Waterloo Road\",\"venue_city\":\"Wolverhampton, West Midlands\",\"venue_capacity\":32050}]}}\n"
     ]
    }
   ],
   "source": [
    "# as previously discoverd the league id is 2790\n",
    "url = \"https://api-football-v1.p.rapidapi.com/v2/teams/league/2790\"\n",
    "\n",
    "headers = {\n",
    "    'x-rapidapi-key': \"58ba862574msh2d22f18a5692fefp1e9a03jsn31da5fc820dc\",\n",
    "    'x-rapidapi-host': \"api-football-v1.p.rapidapi.com\"\n",
    "    }\n",
    "\n",
    "response = requests.request(\"GET\", url, headers=headers)\n",
    "\n",
    "print(response.text)"
   ]
  },
  {
   "cell_type": "code",
   "execution_count": 4,
   "metadata": {},
   "outputs": [
    {
     "name": "stdout",
     "output_type": "stream",
     "text": [
      "{\"api\":{\"results\":37,\"players\":[{\"player_id\":85062,\"player_name\":\"Thiago Motta\",\"firstname\":\"Thiago\",\"lastname\":\"Motta\",\"number\":null,\"position\":\"Midfielder\",\"age\":36,\"birth_date\":\"28\\/08\\/1982\",\"birth_place\":\"S\\u00e3o Bernardo do Campo\",\"birth_country\":\"Brazil\",\"nationality\":\"Italy\",\"height\":\"187 cm\",\"weight\":\"83 kg\"},{\"player_id\":268,\"player_name\":\"Isaac Hemans Arday\",\"firstname\":\"Isaac\",\"lastname\":\"Hemans Arday\",\"number\":null,\"position\":\"Midfielder\",\"age\":24,\"birth_date\":\"26\\/12\\/1996\",\"birth_place\":null,\"birth_country\":\"France\",\"nationality\":\"France\",\"height\":null,\"weight\":null},{\"player_id\":1585,\"player_name\":\"Jes\\u00e9\",\"firstname\":\"Jes\\u00e9\",\"lastname\":\"Rodr\\u00edguez Ruiz\",\"number\":null,\"position\":\"Attacker\",\"age\":27,\"birth_date\":\"26\\/02\\/1993\",\"birth_place\":\"Las Palmas de Gran Canaria\",\"birth_country\":\"Spain\",\"nationality\":\"Spain\",\"height\":\"178 cm\",\"weight\":\"72 kg\"},{\"player_id\":1090,\"player_name\":\"Antoine Joseph Emmanuel Bern\\u00e8de\",\"firstname\":\"Antoine Joseph Emmanuel\",\"lastname\":\"Bern\\u00e8de\",\"number\":null,\"position\":\"Midfielder\",\"age\":21,\"birth_date\":\"26\\/05\\/1999\",\"birth_place\":\"Paris\",\"birth_country\":\"France\",\"nationality\":\"France\",\"height\":\"177 cm\",\"weight\":\"74 kg\"},{\"player_id\":90591,\"player_name\":\"A. Toufiqui\",\"firstname\":\"Azzeddine\",\"lastname\":\"Toufiqui\",\"number\":null,\"position\":\"Midfielder\",\"age\":21,\"birth_date\":\"25\\/04\\/1999\",\"birth_place\":\"Caen\",\"birth_country\":\"France\",\"nationality\":\"France\",\"height\":\"175 cm\",\"weight\":null},{\"player_id\":90593,\"player_name\":\"M. G\\u00fc\\u00e7l\\u00fc\",\"firstname\":\"Metehan\",\"lastname\":\"G\\u00fc\\u00e7l\\u00fc\",\"number\":null,\"position\":\"Attacker\",\"age\":21,\"birth_date\":\"02\\/04\\/1999\",\"birth_place\":\"Montfermeil\",\"birth_country\":\"France\",\"nationality\":\"Turkey\",\"height\":\"182 cm\",\"weight\":null},{\"player_id\":14474,\"player_name\":\"K\\u00e9vin Ramon Rimane\",\"firstname\":\"K\\u00e9vin Ramon\",\"lastname\":\"Rimane\",\"number\":null,\"position\":\"Defender\",\"age\":29,\"birth_date\":\"23\\/02\\/1991\",\"birth_place\":\"Cayenne\",\"birth_country\":\"French Guiana\",\"nationality\":\"French Guiana\",\"height\":\"181 cm\",\"weight\":\"74 kg\"},{\"player_id\":254,\"player_name\":\"G. Buffon\",\"firstname\":\"Gianluigi\",\"lastname\":\"Buffon\",\"number\":null,\"position\":\"Goalkeeper\",\"age\":42,\"birth_date\":\"28\\/01\\/1978\",\"birth_place\":\"Carrara\",\"birth_country\":\"Italy\",\"nationality\":\"Italy\",\"height\":\"192 cm\",\"weight\":\"92 kg\"},{\"player_id\":272,\"player_name\":\"Adrien Rabiot\",\"firstname\":\"Adrien\",\"lastname\":\"Rabiot\",\"number\":null,\"position\":\"Midfielder\",\"age\":25,\"birth_date\":\"03\\/04\\/1995\",\"birth_place\":\"Saint-Maurice\",\"birth_country\":\"France\",\"nationality\":\"France\",\"height\":\"188 cm\",\"weight\":\"71 kg\"},{\"player_id\":269,\"player_name\":\"C. Nkunku\",\"firstname\":\"Christopher\",\"lastname\":\"Nkunku\",\"number\":null,\"position\":\"Midfielder\",\"age\":23,\"birth_date\":\"14\\/11\\/1997\",\"birth_place\":\"Lagny-sur-Marne\",\"birth_country\":\"France\",\"nationality\":\"France\",\"height\":\"178 cm\",\"weight\":\"68 kg\"},{\"player_id\":264,\"player_name\":\"T. Meunier\",\"firstname\":\"Thomas\",\"lastname\":\"Meunier\",\"number\":null,\"position\":\"Midfielder\",\"age\":29,\"birth_date\":\"12\\/09\\/1991\",\"birth_place\":\"Sainte-Ode\",\"birth_country\":\"Belgium\",\"nationality\":\"Belgium\",\"height\":\"190 cm\",\"weight\":\"82 kg\"},{\"player_id\":277,\"player_name\":\"Moussa Diaby\",\"firstname\":\"Moussa\",\"lastname\":\"Diaby\",\"number\":null,\"position\":\"Attacker\",\"age\":21,\"birth_date\":\"07\\/07\\/1999\",\"birth_place\":\"Paris\",\"birth_country\":\"France\",\"nationality\":\"France\",\"height\":\"170 cm\",\"weight\":\"65 kg\"},{\"player_id\":1800,\"player_name\":\"K. Trapp\",\"firstname\":\"Kevin\",\"lastname\":\"Trapp\",\"number\":null,\"position\":\"Goalkeeper\",\"age\":30,\"birth_date\":\"08\\/07\\/1990\",\"birth_place\":\"Merzig\",\"birth_country\":\"Germany\",\"nationality\":\"Germany\",\"height\":\"189 cm\",\"weight\":\"88 kg\"},{\"player_id\":275,\"player_name\":\"E. Choupo-Moting\",\"firstname\":\"Jean-Eric Maxim\",\"lastname\":\"Choupo-Moting\",\"number\":null,\"position\":\"Attacker\",\"age\":31,\"birth_date\":\"23\\/03\\/1989\",\"birth_place\":\"Hamburg\",\"birth_country\":\"Germany\",\"nationality\":\"Cameroon\",\"height\":\"191 cm\",\"weight\":\"82 kg\"},{\"player_id\":1138,\"player_name\":\"Timothy Weah\",\"firstname\":\"Timothy\",\"lastname\":\"Weah\",\"number\":null,\"position\":\"Attacker\",\"age\":20,\"birth_date\":\"22\\/02\\/2000\",\"birth_place\":\"New York\",\"birth_country\":\"USA\",\"nationality\":\"USA\",\"height\":\"183 cm\",\"weight\":\"66 kg\"},{\"player_id\":262,\"player_name\":\"Presnel Kimpembe\",\"firstname\":\"Presnel\",\"lastname\":\"Kimpembe\",\"number\":null,\"position\":\"Defender\",\"age\":25,\"birth_date\":\"13\\/08\\/1995\",\"birth_place\":\"Beaumont-sur-Oise\",\"birth_country\":\"France\",\"nationality\":\"France\",\"height\":\"183 cm\",\"weight\":\"77 kg\"},{\"player_id\":261,\"player_name\":\"Thilo Kehrer\",\"firstname\":\"Thilo\",\"lastname\":\"Kehrer\",\"number\":null,\"position\":\"Defender\",\"age\":24,\"birth_date\":\"21\\/09\\/1996\",\"birth_place\":\"T\\u00fcbingen\",\"birth_country\":\"Germany\",\"nationality\":\"Germany\",\"height\":\"186 cm\",\"weight\":\"76 kg\"},{\"player_id\":257,\"player_name\":\"Marquinhos\",\"firstname\":\"Marcos\",\"lastname\":\"Ao\\u00e1s Corr\\u00eaa\",\"number\":null,\"position\":\"Defender\",\"age\":26,\"birth_date\":\"14\\/05\\/1994\",\"birth_place\":\"S\\u00e3o Paulo\",\"birth_country\":\"Brazil\",\"nationality\":\"Brazil\",\"height\":\"183 cm\",\"weight\":\"75 kg\"},{\"player_id\":258,\"player_name\":\"Juan Bernat\",\"firstname\":\"Juan\",\"lastname\":\"Bernat Velasco\",\"number\":null,\"position\":\"Defender\",\"age\":27,\"birth_date\":\"01\\/03\\/1993\",\"birth_place\":\"Valencia\",\"birth_country\":\"Spain\",\"nationality\":\"Spain\",\"height\":\"177 cm\",\"weight\":\"67 kg\"},{\"player_id\":263,\"player_name\":\"L. Kurzawa\",\"firstname\":\"Layvin\",\"lastname\":\"Kurzawa\",\"number\":null,\"position\":\"Defender\",\"age\":28,\"birth_date\":\"04\\/09\\/1992\",\"birth_place\":\"Fr\\u00e9jus\",\"birth_country\":\"France\",\"nationality\":\"France\",\"height\":\"182 cm\",\"weight\":\"74 kg\"},{\"player_id\":260,\"player_name\":\"C. Dagba\",\"firstname\":\"Colin\",\"lastname\":\"Dagba\",\"number\":null,\"position\":\"Defender\",\"age\":22,\"birth_date\":\"09\\/09\\/1998\",\"birth_place\":\"B\\u00e9thune\",\"birth_country\":\"France\",\"nationality\":\"France\",\"height\":\"170 cm\",\"weight\":\"62 kg\"},{\"player_id\":273,\"player_name\":\"M. Verratti\",\"firstname\":\"Marco\",\"lastname\":\"Verratti\",\"number\":null,\"position\":\"Midfielder\",\"age\":28,\"birth_date\":\"05\\/11\\/1992\",\"birth_place\":\"Pescara\",\"birth_country\":\"Italy\",\"nationality\":\"Italy\",\"height\":\"165 cm\",\"weight\":\"60 kg\"},{\"player_id\":271,\"player_name\":\"L. Paredes\",\"firstname\":\"Leandro Daniel\",\"lastname\":\"Paredes\",\"number\":null,\"position\":\"Midfielder\",\"age\":26,\"birth_date\":\"29\\/06\\/1994\",\"birth_place\":\"San Justo\",\"birth_country\":\"Argentina\",\"nationality\":\"Argentina\",\"height\":\"180 cm\",\"weight\":\"75 kg\"},{\"player_id\":266,\"player_name\":\"\\u00c1. Di Mar\\u00eda\",\"firstname\":\"\\u00c1ngel Fabi\\u00e1n\",\"lastname\":\"Di Mar\\u00eda Hern\\u00e1ndez\",\"number\":null,\"position\":\"Midfielder\",\"age\":32,\"birth_date\":\"14\\/02\\/1988\",\"birth_place\":\"Rosario\",\"birth_country\":\"Argentina\",\"nationality\":\"Argentina\",\"height\":\"180 cm\",\"weight\":\"75 kg\"},{\"player_id\":267,\"player_name\":\"J. Draxler\",\"firstname\":\"Julian\",\"lastname\":\"Draxler\",\"number\":null,\"position\":\"Midfielder\",\"age\":27,\"birth_date\":\"20\\/09\\/1993\",\"birth_place\":\"Gladbeck\",\"birth_country\":\"Germany\",\"nationality\":\"Germany\",\"height\":\"185 cm\",\"weight\":\"72 kg\"},{\"player_id\":278,\"player_name\":\"Kylian Mbapp\\u00e9 Lottin\",\"firstname\":\"Kylian\",\"lastname\":\"Mbapp\\u00e9 Lottin\",\"number\":null,\"position\":\"Attacker\",\"age\":22,\"birth_date\":\"20\\/12\\/1998\",\"birth_place\":\"Paris\",\"birth_country\":\"France\",\"nationality\":\"France\",\"height\":\"178 cm\",\"weight\":\"73 kg\"},{\"player_id\":276,\"player_name\":\"Neymar\",\"firstname\":\"Neymar\",\"lastname\":\"da Silva Santos J\\u00fanior\",\"number\":null,\"position\":\"Attacker\",\"age\":28,\"birth_date\":\"05\\/02\\/1992\",\"birth_place\":\"Mogi das Cruzes\",\"birth_country\":\"Brazil\",\"nationality\":\"Brazil\",\"height\":\"175 cm\",\"weight\":\"68 kg\"},{\"player_id\":255,\"player_name\":\"S. Cibois\",\"firstname\":\"S\\u00e9bastien\",\"lastname\":\"Cibois\",\"number\":null,\"position\":\"Goalkeeper\",\"age\":22,\"birth_date\":\"02\\/03\\/1998\",\"birth_place\":\"Argenteuil\",\"birth_country\":\"France\",\"nationality\":\"France\",\"height\":\"178 cm\",\"weight\":null},{\"player_id\":270,\"player_name\":\"S. N&apos;Soki\",\"firstname\":\"Stanley\",\"lastname\":\"N'Soki\",\"number\":null,\"position\":\"Defender\",\"age\":21,\"birth_date\":\"09\\/04\\/1999\",\"birth_place\":\"Poissy\",\"birth_country\":\"France\",\"nationality\":\"France\",\"height\":\"178 cm\",\"weight\":null},{\"player_id\":265,\"player_name\":\"A. Zagre\",\"firstname\":\"Arthur\",\"lastname\":\"Zagre\",\"number\":null,\"position\":\"Defender\",\"age\":19,\"birth_date\":\"04\\/10\\/2001\",\"birth_place\":\"Neuilly-sur-Seine\",\"birth_country\":\"France\",\"nationality\":\"France\",\"height\":\"168 cm\",\"weight\":null},{\"player_id\":90594,\"player_name\":\"E. Ebimbe\",\"firstname\":\"Eric Junior\",\"lastname\":\"Dina Ebimbe\",\"number\":null,\"position\":\"Midfielder\",\"age\":20,\"birth_date\":\"21\\/11\\/2000\",\"birth_place\":\"Stains\",\"birth_country\":\"France\",\"nationality\":\"France\",\"height\":\"175 cm\",\"weight\":\"66 kg\"},{\"player_id\":256,\"player_name\":\"Dani Alves\",\"firstname\":\"Daniel\",\"lastname\":\"Alves da Silva\",\"number\":null,\"position\":\"Midfielder\",\"age\":37,\"birth_date\":\"06\\/05\\/1983\",\"birth_place\":\"Juazeiro\",\"birth_country\":\"Brazil\",\"nationality\":\"Brazil\",\"height\":\"172 cm\",\"weight\":\"70 kg\"},{\"player_id\":274,\"player_name\":\"E. Cavani\",\"firstname\":\"Edinson Roberto\",\"lastname\":\"Cavani G\\u00f3mez\",\"number\":null,\"position\":\"Attacker\",\"age\":33,\"birth_date\":\"14\\/02\\/1987\",\"birth_place\":\"Salto\",\"birth_country\":\"Uruguay\",\"nationality\":\"Uruguay\",\"height\":\"184 cm\",\"weight\":\"71 kg\"},{\"player_id\":259,\"player_name\":\"Thiago Emiliano da Silva\",\"firstname\":\"Thiago Emiliano\",\"lastname\":\"da Silva\",\"number\":null,\"position\":\"Defender\",\"age\":36,\"birth_date\":\"22\\/09\\/1984\",\"birth_place\":\"Rio de Janeiro\",\"birth_country\":\"Brazil\",\"nationality\":\"Brazil\",\"height\":\"183 cm\",\"weight\":\"79 kg\"},{\"player_id\":279,\"player_name\":\"L. Mbe Soh\",\"firstname\":\"Lo\\u00efc\",\"lastname\":\"Mbe Soh\",\"number\":null,\"position\":\"Defender\",\"age\":19,\"birth_date\":\"13\\/06\\/2001\",\"birth_place\":\"Souza Gare\",\"birth_country\":\"Cameroon\",\"nationality\":\"France\",\"height\":\"186 cm\",\"weight\":null},{\"player_id\":1578,\"player_name\":\"G. Lo Celso\",\"firstname\":\"Giovani\",\"lastname\":\"Lo Celso\",\"number\":null,\"position\":\"Midfielder\",\"age\":24,\"birth_date\":\"09\\/04\\/1996\",\"birth_place\":\"Rosario\",\"birth_country\":\"Argentina\",\"nationality\":\"Argentina\",\"height\":\"177 cm\",\"weight\":\"68 kg\"},{\"player_id\":253,\"player_name\":\"Alphonse Areola\",\"firstname\":\"Alphonse\",\"lastname\":\"Areola\",\"number\":null,\"position\":\"Goalkeeper\",\"age\":27,\"birth_date\":\"27\\/02\\/1993\",\"birth_place\":\"Paris\",\"birth_country\":\"France\",\"nationality\":\"France\",\"height\":\"195 cm\",\"weight\":\"94 kg\"}]}}\n"
     ]
    }
   ],
   "source": [
    "url = \"https://api-football-v1.p.rapidapi.com/v2/players/squad/85/2018-2019\"\n",
    "\n",
    "headers = {\n",
    "    'x-rapidapi-key': api_key,\n",
    "    'x-rapidapi-host': \"api-football-v1.p.rapidapi.com\"\n",
    "    }\n",
    "\n",
    "response = requests.request(\"GET\", url, headers=headers)\n",
    "\n",
    "print(response.text)"
   ]
  },
  {
   "cell_type": "code",
   "execution_count": null,
   "metadata": {},
   "outputs": [],
   "source": []
  }
 ],
 "metadata": {
  "kernelspec": {
   "display_name": "Python 3.7.4 64-bit ('base': conda)",
   "language": "python",
   "name": "python37464bitbaseconda15c2790cc7054c03bc850346b4bdf543"
  },
  "language_info": {
   "codemirror_mode": {
    "name": "ipython",
    "version": 3
   },
   "file_extension": ".py",
   "mimetype": "text/x-python",
   "name": "python",
   "nbconvert_exporter": "python",
   "pygments_lexer": "ipython3",
   "version": "3.7.7"
  }
 },
 "nbformat": 4,
 "nbformat_minor": 4
}
